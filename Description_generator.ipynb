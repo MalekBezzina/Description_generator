{
  "nbformat": 4,
  "nbformat_minor": 0,
  "metadata": {
    "colab": {
      "name": "NLP - keywords to sentences - using {keytotext}",
      "provenance": [],
      "collapsed_sections": [],
      "toc_visible": true
    },
    "kernelspec": {
      "name": "python3",
      "display_name": "Python 3"
    },
    "language_info": {
      "name": "python"
    },
    "widgets": {
      "application/vnd.jupyter.widget-state+json": {
        "4a5d8e7718544e638fe32712d49fe5e4": {
          "model_module": "@jupyter-widgets/controls",
          "model_name": "HBoxModel",
          "model_module_version": "1.5.0",
          "state": {
            "_view_name": "HBoxView",
            "_dom_classes": [],
            "_model_name": "HBoxModel",
            "_view_module": "@jupyter-widgets/controls",
            "_model_module_version": "1.5.0",
            "_view_count": null,
            "_view_module_version": "1.5.0",
            "box_style": "",
            "layout": "IPY_MODEL_520c834bcbb34e76b4bb1a588b7b4802",
            "_model_module": "@jupyter-widgets/controls",
            "children": [
              "IPY_MODEL_719cb39d5a7748a4b408c1b6b2350882",
              "IPY_MODEL_23c03248f6e44e4588e621705ed71888",
              "IPY_MODEL_aa23613a1dd64782b2952a7905f421ed"
            ]
          }
        },
        "520c834bcbb34e76b4bb1a588b7b4802": {
          "model_module": "@jupyter-widgets/base",
          "model_name": "LayoutModel",
          "model_module_version": "1.2.0",
          "state": {
            "_view_name": "LayoutView",
            "grid_template_rows": null,
            "right": null,
            "justify_content": null,
            "_view_module": "@jupyter-widgets/base",
            "overflow": null,
            "_model_module_version": "1.2.0",
            "_view_count": null,
            "flex_flow": null,
            "width": null,
            "min_width": null,
            "border": null,
            "align_items": null,
            "bottom": null,
            "_model_module": "@jupyter-widgets/base",
            "top": null,
            "grid_column": null,
            "overflow_y": null,
            "overflow_x": null,
            "grid_auto_flow": null,
            "grid_area": null,
            "grid_template_columns": null,
            "flex": null,
            "_model_name": "LayoutModel",
            "justify_items": null,
            "grid_row": null,
            "max_height": null,
            "align_content": null,
            "visibility": null,
            "align_self": null,
            "height": null,
            "min_height": null,
            "padding": null,
            "grid_auto_rows": null,
            "grid_gap": null,
            "max_width": null,
            "order": null,
            "_view_module_version": "1.2.0",
            "grid_template_areas": null,
            "object_position": null,
            "object_fit": null,
            "grid_auto_columns": null,
            "margin": null,
            "display": null,
            "left": null
          }
        },
        "719cb39d5a7748a4b408c1b6b2350882": {
          "model_module": "@jupyter-widgets/controls",
          "model_name": "HTMLModel",
          "model_module_version": "1.5.0",
          "state": {
            "_view_name": "HTMLView",
            "style": "IPY_MODEL_88e1be4815384d058e5cf3aee071ede2",
            "_dom_classes": [],
            "description": "",
            "_model_name": "HTMLModel",
            "placeholder": "​",
            "_view_module": "@jupyter-widgets/controls",
            "_model_module_version": "1.5.0",
            "value": "Downloading: 100%",
            "_view_count": null,
            "_view_module_version": "1.5.0",
            "description_tooltip": null,
            "_model_module": "@jupyter-widgets/controls",
            "layout": "IPY_MODEL_4bf42140178b429c98d0e396d88f5d6b"
          }
        },
        "23c03248f6e44e4588e621705ed71888": {
          "model_module": "@jupyter-widgets/controls",
          "model_name": "FloatProgressModel",
          "model_module_version": "1.5.0",
          "state": {
            "_view_name": "ProgressView",
            "style": "IPY_MODEL_0876e6029d204826a8826419c17f1447",
            "_dom_classes": [],
            "description": "",
            "_model_name": "FloatProgressModel",
            "bar_style": "success",
            "max": 25,
            "_view_module": "@jupyter-widgets/controls",
            "_model_module_version": "1.5.0",
            "value": 25,
            "_view_count": null,
            "_view_module_version": "1.5.0",
            "orientation": "horizontal",
            "min": 0,
            "description_tooltip": null,
            "_model_module": "@jupyter-widgets/controls",
            "layout": "IPY_MODEL_948650b8e1f1409db826f988c16791f6"
          }
        },
        "aa23613a1dd64782b2952a7905f421ed": {
          "model_module": "@jupyter-widgets/controls",
          "model_name": "HTMLModel",
          "model_module_version": "1.5.0",
          "state": {
            "_view_name": "HTMLView",
            "style": "IPY_MODEL_f0f52bdb72ad42d7bcd50a162ec76f0c",
            "_dom_classes": [],
            "description": "",
            "_model_name": "HTMLModel",
            "placeholder": "​",
            "_view_module": "@jupyter-widgets/controls",
            "_model_module_version": "1.5.0",
            "value": " 25.0/25.0 [00:00&lt;00:00, 388B/s]",
            "_view_count": null,
            "_view_module_version": "1.5.0",
            "description_tooltip": null,
            "_model_module": "@jupyter-widgets/controls",
            "layout": "IPY_MODEL_45818881a2de472cafa3a75c8b83908d"
          }
        },
        "88e1be4815384d058e5cf3aee071ede2": {
          "model_module": "@jupyter-widgets/controls",
          "model_name": "DescriptionStyleModel",
          "model_module_version": "1.5.0",
          "state": {
            "_view_name": "StyleView",
            "_model_name": "DescriptionStyleModel",
            "description_width": "",
            "_view_module": "@jupyter-widgets/base",
            "_model_module_version": "1.5.0",
            "_view_count": null,
            "_view_module_version": "1.2.0",
            "_model_module": "@jupyter-widgets/controls"
          }
        },
        "4bf42140178b429c98d0e396d88f5d6b": {
          "model_module": "@jupyter-widgets/base",
          "model_name": "LayoutModel",
          "model_module_version": "1.2.0",
          "state": {
            "_view_name": "LayoutView",
            "grid_template_rows": null,
            "right": null,
            "justify_content": null,
            "_view_module": "@jupyter-widgets/base",
            "overflow": null,
            "_model_module_version": "1.2.0",
            "_view_count": null,
            "flex_flow": null,
            "width": null,
            "min_width": null,
            "border": null,
            "align_items": null,
            "bottom": null,
            "_model_module": "@jupyter-widgets/base",
            "top": null,
            "grid_column": null,
            "overflow_y": null,
            "overflow_x": null,
            "grid_auto_flow": null,
            "grid_area": null,
            "grid_template_columns": null,
            "flex": null,
            "_model_name": "LayoutModel",
            "justify_items": null,
            "grid_row": null,
            "max_height": null,
            "align_content": null,
            "visibility": null,
            "align_self": null,
            "height": null,
            "min_height": null,
            "padding": null,
            "grid_auto_rows": null,
            "grid_gap": null,
            "max_width": null,
            "order": null,
            "_view_module_version": "1.2.0",
            "grid_template_areas": null,
            "object_position": null,
            "object_fit": null,
            "grid_auto_columns": null,
            "margin": null,
            "display": null,
            "left": null
          }
        },
        "0876e6029d204826a8826419c17f1447": {
          "model_module": "@jupyter-widgets/controls",
          "model_name": "ProgressStyleModel",
          "model_module_version": "1.5.0",
          "state": {
            "_view_name": "StyleView",
            "_model_name": "ProgressStyleModel",
            "description_width": "",
            "_view_module": "@jupyter-widgets/base",
            "_model_module_version": "1.5.0",
            "_view_count": null,
            "_view_module_version": "1.2.0",
            "bar_color": null,
            "_model_module": "@jupyter-widgets/controls"
          }
        },
        "948650b8e1f1409db826f988c16791f6": {
          "model_module": "@jupyter-widgets/base",
          "model_name": "LayoutModel",
          "model_module_version": "1.2.0",
          "state": {
            "_view_name": "LayoutView",
            "grid_template_rows": null,
            "right": null,
            "justify_content": null,
            "_view_module": "@jupyter-widgets/base",
            "overflow": null,
            "_model_module_version": "1.2.0",
            "_view_count": null,
            "flex_flow": null,
            "width": null,
            "min_width": null,
            "border": null,
            "align_items": null,
            "bottom": null,
            "_model_module": "@jupyter-widgets/base",
            "top": null,
            "grid_column": null,
            "overflow_y": null,
            "overflow_x": null,
            "grid_auto_flow": null,
            "grid_area": null,
            "grid_template_columns": null,
            "flex": null,
            "_model_name": "LayoutModel",
            "justify_items": null,
            "grid_row": null,
            "max_height": null,
            "align_content": null,
            "visibility": null,
            "align_self": null,
            "height": null,
            "min_height": null,
            "padding": null,
            "grid_auto_rows": null,
            "grid_gap": null,
            "max_width": null,
            "order": null,
            "_view_module_version": "1.2.0",
            "grid_template_areas": null,
            "object_position": null,
            "object_fit": null,
            "grid_auto_columns": null,
            "margin": null,
            "display": null,
            "left": null
          }
        },
        "f0f52bdb72ad42d7bcd50a162ec76f0c": {
          "model_module": "@jupyter-widgets/controls",
          "model_name": "DescriptionStyleModel",
          "model_module_version": "1.5.0",
          "state": {
            "_view_name": "StyleView",
            "_model_name": "DescriptionStyleModel",
            "description_width": "",
            "_view_module": "@jupyter-widgets/base",
            "_model_module_version": "1.5.0",
            "_view_count": null,
            "_view_module_version": "1.2.0",
            "_model_module": "@jupyter-widgets/controls"
          }
        },
        "45818881a2de472cafa3a75c8b83908d": {
          "model_module": "@jupyter-widgets/base",
          "model_name": "LayoutModel",
          "model_module_version": "1.2.0",
          "state": {
            "_view_name": "LayoutView",
            "grid_template_rows": null,
            "right": null,
            "justify_content": null,
            "_view_module": "@jupyter-widgets/base",
            "overflow": null,
            "_model_module_version": "1.2.0",
            "_view_count": null,
            "flex_flow": null,
            "width": null,
            "min_width": null,
            "border": null,
            "align_items": null,
            "bottom": null,
            "_model_module": "@jupyter-widgets/base",
            "top": null,
            "grid_column": null,
            "overflow_y": null,
            "overflow_x": null,
            "grid_auto_flow": null,
            "grid_area": null,
            "grid_template_columns": null,
            "flex": null,
            "_model_name": "LayoutModel",
            "justify_items": null,
            "grid_row": null,
            "max_height": null,
            "align_content": null,
            "visibility": null,
            "align_self": null,
            "height": null,
            "min_height": null,
            "padding": null,
            "grid_auto_rows": null,
            "grid_gap": null,
            "max_width": null,
            "order": null,
            "_view_module_version": "1.2.0",
            "grid_template_areas": null,
            "object_position": null,
            "object_fit": null,
            "grid_auto_columns": null,
            "margin": null,
            "display": null,
            "left": null
          }
        },
        "878ac06e06a6491eb2829be56167919f": {
          "model_module": "@jupyter-widgets/controls",
          "model_name": "HBoxModel",
          "model_module_version": "1.5.0",
          "state": {
            "_view_name": "HBoxView",
            "_dom_classes": [],
            "_model_name": "HBoxModel",
            "_view_module": "@jupyter-widgets/controls",
            "_model_module_version": "1.5.0",
            "_view_count": null,
            "_view_module_version": "1.5.0",
            "box_style": "",
            "layout": "IPY_MODEL_9befebd40a51425284126de77f7d4eae",
            "_model_module": "@jupyter-widgets/controls",
            "children": [
              "IPY_MODEL_688f0ecb306e438ba2672bc94f8047db",
              "IPY_MODEL_cdf46ea85e3d481ca42cb68231fde34f",
              "IPY_MODEL_4c007bdd35374df19579be3db02b7b1c"
            ]
          }
        },
        "9befebd40a51425284126de77f7d4eae": {
          "model_module": "@jupyter-widgets/base",
          "model_name": "LayoutModel",
          "model_module_version": "1.2.0",
          "state": {
            "_view_name": "LayoutView",
            "grid_template_rows": null,
            "right": null,
            "justify_content": null,
            "_view_module": "@jupyter-widgets/base",
            "overflow": null,
            "_model_module_version": "1.2.0",
            "_view_count": null,
            "flex_flow": null,
            "width": null,
            "min_width": null,
            "border": null,
            "align_items": null,
            "bottom": null,
            "_model_module": "@jupyter-widgets/base",
            "top": null,
            "grid_column": null,
            "overflow_y": null,
            "overflow_x": null,
            "grid_auto_flow": null,
            "grid_area": null,
            "grid_template_columns": null,
            "flex": null,
            "_model_name": "LayoutModel",
            "justify_items": null,
            "grid_row": null,
            "max_height": null,
            "align_content": null,
            "visibility": null,
            "align_self": null,
            "height": null,
            "min_height": null,
            "padding": null,
            "grid_auto_rows": null,
            "grid_gap": null,
            "max_width": null,
            "order": null,
            "_view_module_version": "1.2.0",
            "grid_template_areas": null,
            "object_position": null,
            "object_fit": null,
            "grid_auto_columns": null,
            "margin": null,
            "display": null,
            "left": null
          }
        },
        "688f0ecb306e438ba2672bc94f8047db": {
          "model_module": "@jupyter-widgets/controls",
          "model_name": "HTMLModel",
          "model_module_version": "1.5.0",
          "state": {
            "_view_name": "HTMLView",
            "style": "IPY_MODEL_a078b7abe3114b539847fdfaa1ceecd1",
            "_dom_classes": [],
            "description": "",
            "_model_name": "HTMLModel",
            "placeholder": "​",
            "_view_module": "@jupyter-widgets/controls",
            "_model_module_version": "1.5.0",
            "value": "Downloading: 100%",
            "_view_count": null,
            "_view_module_version": "1.5.0",
            "description_tooltip": null,
            "_model_module": "@jupyter-widgets/controls",
            "layout": "IPY_MODEL_84468cee52f1405ba25160893caa0cfa"
          }
        },
        "cdf46ea85e3d481ca42cb68231fde34f": {
          "model_module": "@jupyter-widgets/controls",
          "model_name": "FloatProgressModel",
          "model_module_version": "1.5.0",
          "state": {
            "_view_name": "ProgressView",
            "style": "IPY_MODEL_906a6835bfca4cc89cf25ecdda5ac58c",
            "_dom_classes": [],
            "description": "",
            "_model_name": "FloatProgressModel",
            "bar_style": "success",
            "max": 1292,
            "_view_module": "@jupyter-widgets/controls",
            "_model_module_version": "1.5.0",
            "value": 1292,
            "_view_count": null,
            "_view_module_version": "1.5.0",
            "orientation": "horizontal",
            "min": 0,
            "description_tooltip": null,
            "_model_module": "@jupyter-widgets/controls",
            "layout": "IPY_MODEL_ad6a23096ea546cba45dadbec8a31f8c"
          }
        },
        "4c007bdd35374df19579be3db02b7b1c": {
          "model_module": "@jupyter-widgets/controls",
          "model_name": "HTMLModel",
          "model_module_version": "1.5.0",
          "state": {
            "_view_name": "HTMLView",
            "style": "IPY_MODEL_78a206f521b547b89b627350f3e49501",
            "_dom_classes": [],
            "description": "",
            "_model_name": "HTMLModel",
            "placeholder": "​",
            "_view_module": "@jupyter-widgets/controls",
            "_model_module_version": "1.5.0",
            "value": " 1.29k/1.29k [00:00&lt;00:00, 22.1kB/s]",
            "_view_count": null,
            "_view_module_version": "1.5.0",
            "description_tooltip": null,
            "_model_module": "@jupyter-widgets/controls",
            "layout": "IPY_MODEL_f2c4b1644ac94838b840c31f8772c0a4"
          }
        },
        "a078b7abe3114b539847fdfaa1ceecd1": {
          "model_module": "@jupyter-widgets/controls",
          "model_name": "DescriptionStyleModel",
          "model_module_version": "1.5.0",
          "state": {
            "_view_name": "StyleView",
            "_model_name": "DescriptionStyleModel",
            "description_width": "",
            "_view_module": "@jupyter-widgets/base",
            "_model_module_version": "1.5.0",
            "_view_count": null,
            "_view_module_version": "1.2.0",
            "_model_module": "@jupyter-widgets/controls"
          }
        },
        "84468cee52f1405ba25160893caa0cfa": {
          "model_module": "@jupyter-widgets/base",
          "model_name": "LayoutModel",
          "model_module_version": "1.2.0",
          "state": {
            "_view_name": "LayoutView",
            "grid_template_rows": null,
            "right": null,
            "justify_content": null,
            "_view_module": "@jupyter-widgets/base",
            "overflow": null,
            "_model_module_version": "1.2.0",
            "_view_count": null,
            "flex_flow": null,
            "width": null,
            "min_width": null,
            "border": null,
            "align_items": null,
            "bottom": null,
            "_model_module": "@jupyter-widgets/base",
            "top": null,
            "grid_column": null,
            "overflow_y": null,
            "overflow_x": null,
            "grid_auto_flow": null,
            "grid_area": null,
            "grid_template_columns": null,
            "flex": null,
            "_model_name": "LayoutModel",
            "justify_items": null,
            "grid_row": null,
            "max_height": null,
            "align_content": null,
            "visibility": null,
            "align_self": null,
            "height": null,
            "min_height": null,
            "padding": null,
            "grid_auto_rows": null,
            "grid_gap": null,
            "max_width": null,
            "order": null,
            "_view_module_version": "1.2.0",
            "grid_template_areas": null,
            "object_position": null,
            "object_fit": null,
            "grid_auto_columns": null,
            "margin": null,
            "display": null,
            "left": null
          }
        },
        "906a6835bfca4cc89cf25ecdda5ac58c": {
          "model_module": "@jupyter-widgets/controls",
          "model_name": "ProgressStyleModel",
          "model_module_version": "1.5.0",
          "state": {
            "_view_name": "StyleView",
            "_model_name": "ProgressStyleModel",
            "description_width": "",
            "_view_module": "@jupyter-widgets/base",
            "_model_module_version": "1.5.0",
            "_view_count": null,
            "_view_module_version": "1.2.0",
            "bar_color": null,
            "_model_module": "@jupyter-widgets/controls"
          }
        },
        "ad6a23096ea546cba45dadbec8a31f8c": {
          "model_module": "@jupyter-widgets/base",
          "model_name": "LayoutModel",
          "model_module_version": "1.2.0",
          "state": {
            "_view_name": "LayoutView",
            "grid_template_rows": null,
            "right": null,
            "justify_content": null,
            "_view_module": "@jupyter-widgets/base",
            "overflow": null,
            "_model_module_version": "1.2.0",
            "_view_count": null,
            "flex_flow": null,
            "width": null,
            "min_width": null,
            "border": null,
            "align_items": null,
            "bottom": null,
            "_model_module": "@jupyter-widgets/base",
            "top": null,
            "grid_column": null,
            "overflow_y": null,
            "overflow_x": null,
            "grid_auto_flow": null,
            "grid_area": null,
            "grid_template_columns": null,
            "flex": null,
            "_model_name": "LayoutModel",
            "justify_items": null,
            "grid_row": null,
            "max_height": null,
            "align_content": null,
            "visibility": null,
            "align_self": null,
            "height": null,
            "min_height": null,
            "padding": null,
            "grid_auto_rows": null,
            "grid_gap": null,
            "max_width": null,
            "order": null,
            "_view_module_version": "1.2.0",
            "grid_template_areas": null,
            "object_position": null,
            "object_fit": null,
            "grid_auto_columns": null,
            "margin": null,
            "display": null,
            "left": null
          }
        },
        "78a206f521b547b89b627350f3e49501": {
          "model_module": "@jupyter-widgets/controls",
          "model_name": "DescriptionStyleModel",
          "model_module_version": "1.5.0",
          "state": {
            "_view_name": "StyleView",
            "_model_name": "DescriptionStyleModel",
            "description_width": "",
            "_view_module": "@jupyter-widgets/base",
            "_model_module_version": "1.5.0",
            "_view_count": null,
            "_view_module_version": "1.2.0",
            "_model_module": "@jupyter-widgets/controls"
          }
        },
        "f2c4b1644ac94838b840c31f8772c0a4": {
          "model_module": "@jupyter-widgets/base",
          "model_name": "LayoutModel",
          "model_module_version": "1.2.0",
          "state": {
            "_view_name": "LayoutView",
            "grid_template_rows": null,
            "right": null,
            "justify_content": null,
            "_view_module": "@jupyter-widgets/base",
            "overflow": null,
            "_model_module_version": "1.2.0",
            "_view_count": null,
            "flex_flow": null,
            "width": null,
            "min_width": null,
            "border": null,
            "align_items": null,
            "bottom": null,
            "_model_module": "@jupyter-widgets/base",
            "top": null,
            "grid_column": null,
            "overflow_y": null,
            "overflow_x": null,
            "grid_auto_flow": null,
            "grid_area": null,
            "grid_template_columns": null,
            "flex": null,
            "_model_name": "LayoutModel",
            "justify_items": null,
            "grid_row": null,
            "max_height": null,
            "align_content": null,
            "visibility": null,
            "align_self": null,
            "height": null,
            "min_height": null,
            "padding": null,
            "grid_auto_rows": null,
            "grid_gap": null,
            "max_width": null,
            "order": null,
            "_view_module_version": "1.2.0",
            "grid_template_areas": null,
            "object_position": null,
            "object_fit": null,
            "grid_auto_columns": null,
            "margin": null,
            "display": null,
            "left": null
          }
        },
        "30afdaaf39684047b437de45c9be08c3": {
          "model_module": "@jupyter-widgets/controls",
          "model_name": "HBoxModel",
          "model_module_version": "1.5.0",
          "state": {
            "_view_name": "HBoxView",
            "_dom_classes": [],
            "_model_name": "HBoxModel",
            "_view_module": "@jupyter-widgets/controls",
            "_model_module_version": "1.5.0",
            "_view_count": null,
            "_view_module_version": "1.5.0",
            "box_style": "",
            "layout": "IPY_MODEL_d627534a182142b4ab6fbc4c113d4178",
            "_model_module": "@jupyter-widgets/controls",
            "children": [
              "IPY_MODEL_d8cf5a0a9226471fa3378c2304f0acb3",
              "IPY_MODEL_48cb57d3fd914d00a3491278f62facf3",
              "IPY_MODEL_2efc085e30b843ebad40d25f89e04d9a"
            ]
          }
        },
        "d627534a182142b4ab6fbc4c113d4178": {
          "model_module": "@jupyter-widgets/base",
          "model_name": "LayoutModel",
          "model_module_version": "1.2.0",
          "state": {
            "_view_name": "LayoutView",
            "grid_template_rows": null,
            "right": null,
            "justify_content": null,
            "_view_module": "@jupyter-widgets/base",
            "overflow": null,
            "_model_module_version": "1.2.0",
            "_view_count": null,
            "flex_flow": null,
            "width": null,
            "min_width": null,
            "border": null,
            "align_items": null,
            "bottom": null,
            "_model_module": "@jupyter-widgets/base",
            "top": null,
            "grid_column": null,
            "overflow_y": null,
            "overflow_x": null,
            "grid_auto_flow": null,
            "grid_area": null,
            "grid_template_columns": null,
            "flex": null,
            "_model_name": "LayoutModel",
            "justify_items": null,
            "grid_row": null,
            "max_height": null,
            "align_content": null,
            "visibility": null,
            "align_self": null,
            "height": null,
            "min_height": null,
            "padding": null,
            "grid_auto_rows": null,
            "grid_gap": null,
            "max_width": null,
            "order": null,
            "_view_module_version": "1.2.0",
            "grid_template_areas": null,
            "object_position": null,
            "object_fit": null,
            "grid_auto_columns": null,
            "margin": null,
            "display": null,
            "left": null
          }
        },
        "d8cf5a0a9226471fa3378c2304f0acb3": {
          "model_module": "@jupyter-widgets/controls",
          "model_name": "HTMLModel",
          "model_module_version": "1.5.0",
          "state": {
            "_view_name": "HTMLView",
            "style": "IPY_MODEL_7a8d4cceb93143d6ac0579b902201ebb",
            "_dom_classes": [],
            "description": "",
            "_model_name": "HTMLModel",
            "placeholder": "​",
            "_view_module": "@jupyter-widgets/controls",
            "_model_module_version": "1.5.0",
            "value": "Downloading: 100%",
            "_view_count": null,
            "_view_module_version": "1.5.0",
            "description_tooltip": null,
            "_model_module": "@jupyter-widgets/controls",
            "layout": "IPY_MODEL_afa0b91166a54ac6bdb8bd5a1f476a44"
          }
        },
        "48cb57d3fd914d00a3491278f62facf3": {
          "model_module": "@jupyter-widgets/controls",
          "model_name": "FloatProgressModel",
          "model_module_version": "1.5.0",
          "state": {
            "_view_name": "ProgressView",
            "style": "IPY_MODEL_748fd8eec5af4f2788886e2c013516c0",
            "_dom_classes": [],
            "description": "",
            "_model_name": "FloatProgressModel",
            "bar_style": "success",
            "max": 791656,
            "_view_module": "@jupyter-widgets/controls",
            "_model_module_version": "1.5.0",
            "value": 791656,
            "_view_count": null,
            "_view_module_version": "1.5.0",
            "orientation": "horizontal",
            "min": 0,
            "description_tooltip": null,
            "_model_module": "@jupyter-widgets/controls",
            "layout": "IPY_MODEL_e69239be53e04958a254e56a46c36286"
          }
        },
        "2efc085e30b843ebad40d25f89e04d9a": {
          "model_module": "@jupyter-widgets/controls",
          "model_name": "HTMLModel",
          "model_module_version": "1.5.0",
          "state": {
            "_view_name": "HTMLView",
            "style": "IPY_MODEL_82e43264d9f04b45be656ed8416b1694",
            "_dom_classes": [],
            "description": "",
            "_model_name": "HTMLModel",
            "placeholder": "​",
            "_view_module": "@jupyter-widgets/controls",
            "_model_module_version": "1.5.0",
            "value": " 792k/792k [00:00&lt;00:00, 962kB/s]",
            "_view_count": null,
            "_view_module_version": "1.5.0",
            "description_tooltip": null,
            "_model_module": "@jupyter-widgets/controls",
            "layout": "IPY_MODEL_f5d2be664b624864951f665cb55154cb"
          }
        },
        "7a8d4cceb93143d6ac0579b902201ebb": {
          "model_module": "@jupyter-widgets/controls",
          "model_name": "DescriptionStyleModel",
          "model_module_version": "1.5.0",
          "state": {
            "_view_name": "StyleView",
            "_model_name": "DescriptionStyleModel",
            "description_width": "",
            "_view_module": "@jupyter-widgets/base",
            "_model_module_version": "1.5.0",
            "_view_count": null,
            "_view_module_version": "1.2.0",
            "_model_module": "@jupyter-widgets/controls"
          }
        },
        "afa0b91166a54ac6bdb8bd5a1f476a44": {
          "model_module": "@jupyter-widgets/base",
          "model_name": "LayoutModel",
          "model_module_version": "1.2.0",
          "state": {
            "_view_name": "LayoutView",
            "grid_template_rows": null,
            "right": null,
            "justify_content": null,
            "_view_module": "@jupyter-widgets/base",
            "overflow": null,
            "_model_module_version": "1.2.0",
            "_view_count": null,
            "flex_flow": null,
            "width": null,
            "min_width": null,
            "border": null,
            "align_items": null,
            "bottom": null,
            "_model_module": "@jupyter-widgets/base",
            "top": null,
            "grid_column": null,
            "overflow_y": null,
            "overflow_x": null,
            "grid_auto_flow": null,
            "grid_area": null,
            "grid_template_columns": null,
            "flex": null,
            "_model_name": "LayoutModel",
            "justify_items": null,
            "grid_row": null,
            "max_height": null,
            "align_content": null,
            "visibility": null,
            "align_self": null,
            "height": null,
            "min_height": null,
            "padding": null,
            "grid_auto_rows": null,
            "grid_gap": null,
            "max_width": null,
            "order": null,
            "_view_module_version": "1.2.0",
            "grid_template_areas": null,
            "object_position": null,
            "object_fit": null,
            "grid_auto_columns": null,
            "margin": null,
            "display": null,
            "left": null
          }
        },
        "748fd8eec5af4f2788886e2c013516c0": {
          "model_module": "@jupyter-widgets/controls",
          "model_name": "ProgressStyleModel",
          "model_module_version": "1.5.0",
          "state": {
            "_view_name": "StyleView",
            "_model_name": "ProgressStyleModel",
            "description_width": "",
            "_view_module": "@jupyter-widgets/base",
            "_model_module_version": "1.5.0",
            "_view_count": null,
            "_view_module_version": "1.2.0",
            "bar_color": null,
            "_model_module": "@jupyter-widgets/controls"
          }
        },
        "e69239be53e04958a254e56a46c36286": {
          "model_module": "@jupyter-widgets/base",
          "model_name": "LayoutModel",
          "model_module_version": "1.2.0",
          "state": {
            "_view_name": "LayoutView",
            "grid_template_rows": null,
            "right": null,
            "justify_content": null,
            "_view_module": "@jupyter-widgets/base",
            "overflow": null,
            "_model_module_version": "1.2.0",
            "_view_count": null,
            "flex_flow": null,
            "width": null,
            "min_width": null,
            "border": null,
            "align_items": null,
            "bottom": null,
            "_model_module": "@jupyter-widgets/base",
            "top": null,
            "grid_column": null,
            "overflow_y": null,
            "overflow_x": null,
            "grid_auto_flow": null,
            "grid_area": null,
            "grid_template_columns": null,
            "flex": null,
            "_model_name": "LayoutModel",
            "justify_items": null,
            "grid_row": null,
            "max_height": null,
            "align_content": null,
            "visibility": null,
            "align_self": null,
            "height": null,
            "min_height": null,
            "padding": null,
            "grid_auto_rows": null,
            "grid_gap": null,
            "max_width": null,
            "order": null,
            "_view_module_version": "1.2.0",
            "grid_template_areas": null,
            "object_position": null,
            "object_fit": null,
            "grid_auto_columns": null,
            "margin": null,
            "display": null,
            "left": null
          }
        },
        "82e43264d9f04b45be656ed8416b1694": {
          "model_module": "@jupyter-widgets/controls",
          "model_name": "DescriptionStyleModel",
          "model_module_version": "1.5.0",
          "state": {
            "_view_name": "StyleView",
            "_model_name": "DescriptionStyleModel",
            "description_width": "",
            "_view_module": "@jupyter-widgets/base",
            "_model_module_version": "1.5.0",
            "_view_count": null,
            "_view_module_version": "1.2.0",
            "_model_module": "@jupyter-widgets/controls"
          }
        },
        "f5d2be664b624864951f665cb55154cb": {
          "model_module": "@jupyter-widgets/base",
          "model_name": "LayoutModel",
          "model_module_version": "1.2.0",
          "state": {
            "_view_name": "LayoutView",
            "grid_template_rows": null,
            "right": null,
            "justify_content": null,
            "_view_module": "@jupyter-widgets/base",
            "overflow": null,
            "_model_module_version": "1.2.0",
            "_view_count": null,
            "flex_flow": null,
            "width": null,
            "min_width": null,
            "border": null,
            "align_items": null,
            "bottom": null,
            "_model_module": "@jupyter-widgets/base",
            "top": null,
            "grid_column": null,
            "overflow_y": null,
            "overflow_x": null,
            "grid_auto_flow": null,
            "grid_area": null,
            "grid_template_columns": null,
            "flex": null,
            "_model_name": "LayoutModel",
            "justify_items": null,
            "grid_row": null,
            "max_height": null,
            "align_content": null,
            "visibility": null,
            "align_self": null,
            "height": null,
            "min_height": null,
            "padding": null,
            "grid_auto_rows": null,
            "grid_gap": null,
            "max_width": null,
            "order": null,
            "_view_module_version": "1.2.0",
            "grid_template_areas": null,
            "object_position": null,
            "object_fit": null,
            "grid_auto_columns": null,
            "margin": null,
            "display": null,
            "left": null
          }
        },
        "f2b2ae8bc4fb42f693505677fa7f78c5": {
          "model_module": "@jupyter-widgets/controls",
          "model_name": "HBoxModel",
          "model_module_version": "1.5.0",
          "state": {
            "_view_name": "HBoxView",
            "_dom_classes": [],
            "_model_name": "HBoxModel",
            "_view_module": "@jupyter-widgets/controls",
            "_model_module_version": "1.5.0",
            "_view_count": null,
            "_view_module_version": "1.5.0",
            "box_style": "",
            "layout": "IPY_MODEL_1befffa13d974bac83b6658917decf28",
            "_model_module": "@jupyter-widgets/controls",
            "children": [
              "IPY_MODEL_cb9b84a0b1f748e9997ba5de0163b247",
              "IPY_MODEL_409acfcdce9744e5a503350c792fda0e",
              "IPY_MODEL_90c98132a41e41e7b38163c14ce01e9f"
            ]
          }
        },
        "1befffa13d974bac83b6658917decf28": {
          "model_module": "@jupyter-widgets/base",
          "model_name": "LayoutModel",
          "model_module_version": "1.2.0",
          "state": {
            "_view_name": "LayoutView",
            "grid_template_rows": null,
            "right": null,
            "justify_content": null,
            "_view_module": "@jupyter-widgets/base",
            "overflow": null,
            "_model_module_version": "1.2.0",
            "_view_count": null,
            "flex_flow": null,
            "width": null,
            "min_width": null,
            "border": null,
            "align_items": null,
            "bottom": null,
            "_model_module": "@jupyter-widgets/base",
            "top": null,
            "grid_column": null,
            "overflow_y": null,
            "overflow_x": null,
            "grid_auto_flow": null,
            "grid_area": null,
            "grid_template_columns": null,
            "flex": null,
            "_model_name": "LayoutModel",
            "justify_items": null,
            "grid_row": null,
            "max_height": null,
            "align_content": null,
            "visibility": null,
            "align_self": null,
            "height": null,
            "min_height": null,
            "padding": null,
            "grid_auto_rows": null,
            "grid_gap": null,
            "max_width": null,
            "order": null,
            "_view_module_version": "1.2.0",
            "grid_template_areas": null,
            "object_position": null,
            "object_fit": null,
            "grid_auto_columns": null,
            "margin": null,
            "display": null,
            "left": null
          }
        },
        "cb9b84a0b1f748e9997ba5de0163b247": {
          "model_module": "@jupyter-widgets/controls",
          "model_name": "HTMLModel",
          "model_module_version": "1.5.0",
          "state": {
            "_view_name": "HTMLView",
            "style": "IPY_MODEL_9f3b7c00e67e49a9bd5e8f47663aa2fd",
            "_dom_classes": [],
            "description": "",
            "_model_name": "HTMLModel",
            "placeholder": "​",
            "_view_module": "@jupyter-widgets/controls",
            "_model_module_version": "1.5.0",
            "value": "Downloading: 100%",
            "_view_count": null,
            "_view_module_version": "1.5.0",
            "description_tooltip": null,
            "_model_module": "@jupyter-widgets/controls",
            "layout": "IPY_MODEL_b561f4ecafc04059ad7dc174f059d38e"
          }
        },
        "409acfcdce9744e5a503350c792fda0e": {
          "model_module": "@jupyter-widgets/controls",
          "model_name": "FloatProgressModel",
          "model_module_version": "1.5.0",
          "state": {
            "_view_name": "ProgressView",
            "style": "IPY_MODEL_df03924096264b78863679c1846b26fa",
            "_dom_classes": [],
            "description": "",
            "_model_name": "FloatProgressModel",
            "bar_style": "success",
            "max": 1786,
            "_view_module": "@jupyter-widgets/controls",
            "_model_module_version": "1.5.0",
            "value": 1786,
            "_view_count": null,
            "_view_module_version": "1.5.0",
            "orientation": "horizontal",
            "min": 0,
            "description_tooltip": null,
            "_model_module": "@jupyter-widgets/controls",
            "layout": "IPY_MODEL_07ab51ab474e40a39327ed41e3bbf583"
          }
        },
        "90c98132a41e41e7b38163c14ce01e9f": {
          "model_module": "@jupyter-widgets/controls",
          "model_name": "HTMLModel",
          "model_module_version": "1.5.0",
          "state": {
            "_view_name": "HTMLView",
            "style": "IPY_MODEL_b00478afbf4a45f5a8604a8688e41040",
            "_dom_classes": [],
            "description": "",
            "_model_name": "HTMLModel",
            "placeholder": "​",
            "_view_module": "@jupyter-widgets/controls",
            "_model_module_version": "1.5.0",
            "value": " 1.79k/1.79k [00:00&lt;00:00, 36.4kB/s]",
            "_view_count": null,
            "_view_module_version": "1.5.0",
            "description_tooltip": null,
            "_model_module": "@jupyter-widgets/controls",
            "layout": "IPY_MODEL_df1ccea484bc48c8ab734db744a23575"
          }
        },
        "9f3b7c00e67e49a9bd5e8f47663aa2fd": {
          "model_module": "@jupyter-widgets/controls",
          "model_name": "DescriptionStyleModel",
          "model_module_version": "1.5.0",
          "state": {
            "_view_name": "StyleView",
            "_model_name": "DescriptionStyleModel",
            "description_width": "",
            "_view_module": "@jupyter-widgets/base",
            "_model_module_version": "1.5.0",
            "_view_count": null,
            "_view_module_version": "1.2.0",
            "_model_module": "@jupyter-widgets/controls"
          }
        },
        "b561f4ecafc04059ad7dc174f059d38e": {
          "model_module": "@jupyter-widgets/base",
          "model_name": "LayoutModel",
          "model_module_version": "1.2.0",
          "state": {
            "_view_name": "LayoutView",
            "grid_template_rows": null,
            "right": null,
            "justify_content": null,
            "_view_module": "@jupyter-widgets/base",
            "overflow": null,
            "_model_module_version": "1.2.0",
            "_view_count": null,
            "flex_flow": null,
            "width": null,
            "min_width": null,
            "border": null,
            "align_items": null,
            "bottom": null,
            "_model_module": "@jupyter-widgets/base",
            "top": null,
            "grid_column": null,
            "overflow_y": null,
            "overflow_x": null,
            "grid_auto_flow": null,
            "grid_area": null,
            "grid_template_columns": null,
            "flex": null,
            "_model_name": "LayoutModel",
            "justify_items": null,
            "grid_row": null,
            "max_height": null,
            "align_content": null,
            "visibility": null,
            "align_self": null,
            "height": null,
            "min_height": null,
            "padding": null,
            "grid_auto_rows": null,
            "grid_gap": null,
            "max_width": null,
            "order": null,
            "_view_module_version": "1.2.0",
            "grid_template_areas": null,
            "object_position": null,
            "object_fit": null,
            "grid_auto_columns": null,
            "margin": null,
            "display": null,
            "left": null
          }
        },
        "df03924096264b78863679c1846b26fa": {
          "model_module": "@jupyter-widgets/controls",
          "model_name": "ProgressStyleModel",
          "model_module_version": "1.5.0",
          "state": {
            "_view_name": "StyleView",
            "_model_name": "ProgressStyleModel",
            "description_width": "",
            "_view_module": "@jupyter-widgets/base",
            "_model_module_version": "1.5.0",
            "_view_count": null,
            "_view_module_version": "1.2.0",
            "bar_color": null,
            "_model_module": "@jupyter-widgets/controls"
          }
        },
        "07ab51ab474e40a39327ed41e3bbf583": {
          "model_module": "@jupyter-widgets/base",
          "model_name": "LayoutModel",
          "model_module_version": "1.2.0",
          "state": {
            "_view_name": "LayoutView",
            "grid_template_rows": null,
            "right": null,
            "justify_content": null,
            "_view_module": "@jupyter-widgets/base",
            "overflow": null,
            "_model_module_version": "1.2.0",
            "_view_count": null,
            "flex_flow": null,
            "width": null,
            "min_width": null,
            "border": null,
            "align_items": null,
            "bottom": null,
            "_model_module": "@jupyter-widgets/base",
            "top": null,
            "grid_column": null,
            "overflow_y": null,
            "overflow_x": null,
            "grid_auto_flow": null,
            "grid_area": null,
            "grid_template_columns": null,
            "flex": null,
            "_model_name": "LayoutModel",
            "justify_items": null,
            "grid_row": null,
            "max_height": null,
            "align_content": null,
            "visibility": null,
            "align_self": null,
            "height": null,
            "min_height": null,
            "padding": null,
            "grid_auto_rows": null,
            "grid_gap": null,
            "max_width": null,
            "order": null,
            "_view_module_version": "1.2.0",
            "grid_template_areas": null,
            "object_position": null,
            "object_fit": null,
            "grid_auto_columns": null,
            "margin": null,
            "display": null,
            "left": null
          }
        },
        "b00478afbf4a45f5a8604a8688e41040": {
          "model_module": "@jupyter-widgets/controls",
          "model_name": "DescriptionStyleModel",
          "model_module_version": "1.5.0",
          "state": {
            "_view_name": "StyleView",
            "_model_name": "DescriptionStyleModel",
            "description_width": "",
            "_view_module": "@jupyter-widgets/base",
            "_model_module_version": "1.5.0",
            "_view_count": null,
            "_view_module_version": "1.2.0",
            "_model_module": "@jupyter-widgets/controls"
          }
        },
        "df1ccea484bc48c8ab734db744a23575": {
          "model_module": "@jupyter-widgets/base",
          "model_name": "LayoutModel",
          "model_module_version": "1.2.0",
          "state": {
            "_view_name": "LayoutView",
            "grid_template_rows": null,
            "right": null,
            "justify_content": null,
            "_view_module": "@jupyter-widgets/base",
            "overflow": null,
            "_model_module_version": "1.2.0",
            "_view_count": null,
            "flex_flow": null,
            "width": null,
            "min_width": null,
            "border": null,
            "align_items": null,
            "bottom": null,
            "_model_module": "@jupyter-widgets/base",
            "top": null,
            "grid_column": null,
            "overflow_y": null,
            "overflow_x": null,
            "grid_auto_flow": null,
            "grid_area": null,
            "grid_template_columns": null,
            "flex": null,
            "_model_name": "LayoutModel",
            "justify_items": null,
            "grid_row": null,
            "max_height": null,
            "align_content": null,
            "visibility": null,
            "align_self": null,
            "height": null,
            "min_height": null,
            "padding": null,
            "grid_auto_rows": null,
            "grid_gap": null,
            "max_width": null,
            "order": null,
            "_view_module_version": "1.2.0",
            "grid_template_areas": null,
            "object_position": null,
            "object_fit": null,
            "grid_auto_columns": null,
            "margin": null,
            "display": null,
            "left": null
          }
        },
        "0d5580ea2ddc45a09f2b6365e020f81c": {
          "model_module": "@jupyter-widgets/controls",
          "model_name": "HBoxModel",
          "model_module_version": "1.5.0",
          "state": {
            "_view_name": "HBoxView",
            "_dom_classes": [],
            "_model_name": "HBoxModel",
            "_view_module": "@jupyter-widgets/controls",
            "_model_module_version": "1.5.0",
            "_view_count": null,
            "_view_module_version": "1.5.0",
            "box_style": "",
            "layout": "IPY_MODEL_64cb08e3655f4e22adaa22627d472a42",
            "_model_module": "@jupyter-widgets/controls",
            "children": [
              "IPY_MODEL_eb815157203145fbae9e92d204ef6e7b",
              "IPY_MODEL_b1a60f2002ea4402bef513ae278f6974",
              "IPY_MODEL_efa51eb8acec473b8d6f642095c99958"
            ]
          }
        },
        "64cb08e3655f4e22adaa22627d472a42": {
          "model_module": "@jupyter-widgets/base",
          "model_name": "LayoutModel",
          "model_module_version": "1.2.0",
          "state": {
            "_view_name": "LayoutView",
            "grid_template_rows": null,
            "right": null,
            "justify_content": null,
            "_view_module": "@jupyter-widgets/base",
            "overflow": null,
            "_model_module_version": "1.2.0",
            "_view_count": null,
            "flex_flow": null,
            "width": null,
            "min_width": null,
            "border": null,
            "align_items": null,
            "bottom": null,
            "_model_module": "@jupyter-widgets/base",
            "top": null,
            "grid_column": null,
            "overflow_y": null,
            "overflow_x": null,
            "grid_auto_flow": null,
            "grid_area": null,
            "grid_template_columns": null,
            "flex": null,
            "_model_name": "LayoutModel",
            "justify_items": null,
            "grid_row": null,
            "max_height": null,
            "align_content": null,
            "visibility": null,
            "align_self": null,
            "height": null,
            "min_height": null,
            "padding": null,
            "grid_auto_rows": null,
            "grid_gap": null,
            "max_width": null,
            "order": null,
            "_view_module_version": "1.2.0",
            "grid_template_areas": null,
            "object_position": null,
            "object_fit": null,
            "grid_auto_columns": null,
            "margin": null,
            "display": null,
            "left": null
          }
        },
        "eb815157203145fbae9e92d204ef6e7b": {
          "model_module": "@jupyter-widgets/controls",
          "model_name": "HTMLModel",
          "model_module_version": "1.5.0",
          "state": {
            "_view_name": "HTMLView",
            "style": "IPY_MODEL_a4bdff9cee0947949c266055e5c489d9",
            "_dom_classes": [],
            "description": "",
            "_model_name": "HTMLModel",
            "placeholder": "​",
            "_view_module": "@jupyter-widgets/controls",
            "_model_module_version": "1.5.0",
            "value": "Downloading: 100%",
            "_view_count": null,
            "_view_module_version": "1.5.0",
            "description_tooltip": null,
            "_model_module": "@jupyter-widgets/controls",
            "layout": "IPY_MODEL_483ad72afea94589a7580462bb155c4e"
          }
        },
        "b1a60f2002ea4402bef513ae278f6974": {
          "model_module": "@jupyter-widgets/controls",
          "model_name": "FloatProgressModel",
          "model_module_version": "1.5.0",
          "state": {
            "_view_name": "ProgressView",
            "style": "IPY_MODEL_ba7f652f51aa488d87bfd588d6b4ed5e",
            "_dom_classes": [],
            "description": "",
            "_model_name": "FloatProgressModel",
            "bar_style": "success",
            "max": 1187795696,
            "_view_module": "@jupyter-widgets/controls",
            "_model_module_version": "1.5.0",
            "value": 1187795696,
            "_view_count": null,
            "_view_module_version": "1.5.0",
            "orientation": "horizontal",
            "min": 0,
            "description_tooltip": null,
            "_model_module": "@jupyter-widgets/controls",
            "layout": "IPY_MODEL_03c96e26486246278b235fd9653818e3"
          }
        },
        "efa51eb8acec473b8d6f642095c99958": {
          "model_module": "@jupyter-widgets/controls",
          "model_name": "HTMLModel",
          "model_module_version": "1.5.0",
          "state": {
            "_view_name": "HTMLView",
            "style": "IPY_MODEL_f995dc734a7345af989752cc72dc9b16",
            "_dom_classes": [],
            "description": "",
            "_model_name": "HTMLModel",
            "placeholder": "​",
            "_view_module": "@jupyter-widgets/controls",
            "_model_module_version": "1.5.0",
            "value": " 1.19G/1.19G [00:29&lt;00:00, 43.9MB/s]",
            "_view_count": null,
            "_view_module_version": "1.5.0",
            "description_tooltip": null,
            "_model_module": "@jupyter-widgets/controls",
            "layout": "IPY_MODEL_b7c632048a3748298967460562b5faef"
          }
        },
        "a4bdff9cee0947949c266055e5c489d9": {
          "model_module": "@jupyter-widgets/controls",
          "model_name": "DescriptionStyleModel",
          "model_module_version": "1.5.0",
          "state": {
            "_view_name": "StyleView",
            "_model_name": "DescriptionStyleModel",
            "description_width": "",
            "_view_module": "@jupyter-widgets/base",
            "_model_module_version": "1.5.0",
            "_view_count": null,
            "_view_module_version": "1.2.0",
            "_model_module": "@jupyter-widgets/controls"
          }
        },
        "483ad72afea94589a7580462bb155c4e": {
          "model_module": "@jupyter-widgets/base",
          "model_name": "LayoutModel",
          "model_module_version": "1.2.0",
          "state": {
            "_view_name": "LayoutView",
            "grid_template_rows": null,
            "right": null,
            "justify_content": null,
            "_view_module": "@jupyter-widgets/base",
            "overflow": null,
            "_model_module_version": "1.2.0",
            "_view_count": null,
            "flex_flow": null,
            "width": null,
            "min_width": null,
            "border": null,
            "align_items": null,
            "bottom": null,
            "_model_module": "@jupyter-widgets/base",
            "top": null,
            "grid_column": null,
            "overflow_y": null,
            "overflow_x": null,
            "grid_auto_flow": null,
            "grid_area": null,
            "grid_template_columns": null,
            "flex": null,
            "_model_name": "LayoutModel",
            "justify_items": null,
            "grid_row": null,
            "max_height": null,
            "align_content": null,
            "visibility": null,
            "align_self": null,
            "height": null,
            "min_height": null,
            "padding": null,
            "grid_auto_rows": null,
            "grid_gap": null,
            "max_width": null,
            "order": null,
            "_view_module_version": "1.2.0",
            "grid_template_areas": null,
            "object_position": null,
            "object_fit": null,
            "grid_auto_columns": null,
            "margin": null,
            "display": null,
            "left": null
          }
        },
        "ba7f652f51aa488d87bfd588d6b4ed5e": {
          "model_module": "@jupyter-widgets/controls",
          "model_name": "ProgressStyleModel",
          "model_module_version": "1.5.0",
          "state": {
            "_view_name": "StyleView",
            "_model_name": "ProgressStyleModel",
            "description_width": "",
            "_view_module": "@jupyter-widgets/base",
            "_model_module_version": "1.5.0",
            "_view_count": null,
            "_view_module_version": "1.2.0",
            "bar_color": null,
            "_model_module": "@jupyter-widgets/controls"
          }
        },
        "03c96e26486246278b235fd9653818e3": {
          "model_module": "@jupyter-widgets/base",
          "model_name": "LayoutModel",
          "model_module_version": "1.2.0",
          "state": {
            "_view_name": "LayoutView",
            "grid_template_rows": null,
            "right": null,
            "justify_content": null,
            "_view_module": "@jupyter-widgets/base",
            "overflow": null,
            "_model_module_version": "1.2.0",
            "_view_count": null,
            "flex_flow": null,
            "width": null,
            "min_width": null,
            "border": null,
            "align_items": null,
            "bottom": null,
            "_model_module": "@jupyter-widgets/base",
            "top": null,
            "grid_column": null,
            "overflow_y": null,
            "overflow_x": null,
            "grid_auto_flow": null,
            "grid_area": null,
            "grid_template_columns": null,
            "flex": null,
            "_model_name": "LayoutModel",
            "justify_items": null,
            "grid_row": null,
            "max_height": null,
            "align_content": null,
            "visibility": null,
            "align_self": null,
            "height": null,
            "min_height": null,
            "padding": null,
            "grid_auto_rows": null,
            "grid_gap": null,
            "max_width": null,
            "order": null,
            "_view_module_version": "1.2.0",
            "grid_template_areas": null,
            "object_position": null,
            "object_fit": null,
            "grid_auto_columns": null,
            "margin": null,
            "display": null,
            "left": null
          }
        },
        "f995dc734a7345af989752cc72dc9b16": {
          "model_module": "@jupyter-widgets/controls",
          "model_name": "DescriptionStyleModel",
          "model_module_version": "1.5.0",
          "state": {
            "_view_name": "StyleView",
            "_model_name": "DescriptionStyleModel",
            "description_width": "",
            "_view_module": "@jupyter-widgets/base",
            "_model_module_version": "1.5.0",
            "_view_count": null,
            "_view_module_version": "1.2.0",
            "_model_module": "@jupyter-widgets/controls"
          }
        },
        "b7c632048a3748298967460562b5faef": {
          "model_module": "@jupyter-widgets/base",
          "model_name": "LayoutModel",
          "model_module_version": "1.2.0",
          "state": {
            "_view_name": "LayoutView",
            "grid_template_rows": null,
            "right": null,
            "justify_content": null,
            "_view_module": "@jupyter-widgets/base",
            "overflow": null,
            "_model_module_version": "1.2.0",
            "_view_count": null,
            "flex_flow": null,
            "width": null,
            "min_width": null,
            "border": null,
            "align_items": null,
            "bottom": null,
            "_model_module": "@jupyter-widgets/base",
            "top": null,
            "grid_column": null,
            "overflow_y": null,
            "overflow_x": null,
            "grid_auto_flow": null,
            "grid_area": null,
            "grid_template_columns": null,
            "flex": null,
            "_model_name": "LayoutModel",
            "justify_items": null,
            "grid_row": null,
            "max_height": null,
            "align_content": null,
            "visibility": null,
            "align_self": null,
            "height": null,
            "min_height": null,
            "padding": null,
            "grid_auto_rows": null,
            "grid_gap": null,
            "max_width": null,
            "order": null,
            "_view_module_version": "1.2.0",
            "grid_template_areas": null,
            "object_position": null,
            "object_fit": null,
            "grid_auto_columns": null,
            "margin": null,
            "display": null,
            "left": null
          }
        }
      }
    }
  },
  "cells": [
    {
      "cell_type": "code",
      "metadata": {
        "id": "i3e00BoW2vZQ",
        "colab": {
          "base_uri": "https://localhost:8080/"
        },
        "outputId": "5b4b588b-43da-4306-c6ea-46851bc6df1c"
      },
      "source": [
        "#install the k2t repository\n",
        "!pip install keytotext --upgrade"
      ],
      "execution_count": 1,
      "outputs": [
        {
          "output_type": "stream",
          "name": "stdout",
          "text": [
            "Collecting keytotext\n",
            "  Downloading keytotext-1.5.0-py3-none-any.whl (11 kB)\n",
            "Collecting wandb\n",
            "  Downloading wandb-0.12.1-py2.py3-none-any.whl (1.7 MB)\n",
            "\u001b[K     |████████████████████████████████| 1.7 MB 7.5 MB/s \n",
            "\u001b[?25hCollecting datasets\n",
            "  Downloading datasets-1.11.0-py3-none-any.whl (264 kB)\n",
            "\u001b[K     |████████████████████████████████| 264 kB 56.4 MB/s \n",
            "\u001b[?25hCollecting transformers\n",
            "  Downloading transformers-4.10.0-py3-none-any.whl (2.8 MB)\n",
            "\u001b[K     |████████████████████████████████| 2.8 MB 57.5 MB/s \n",
            "\u001b[?25hRequirement already satisfied: torch in /usr/local/lib/python3.7/dist-packages (from keytotext) (1.9.0+cu102)\n",
            "Collecting sentencepiece\n",
            "  Downloading sentencepiece-0.1.96-cp37-cp37m-manylinux_2_17_x86_64.manylinux2014_x86_64.whl (1.2 MB)\n",
            "\u001b[K     |████████████████████████████████| 1.2 MB 44.6 MB/s \n",
            "\u001b[?25hCollecting pytorch_lightning\n",
            "  Downloading pytorch_lightning-1.4.4-py3-none-any.whl (918 kB)\n",
            "\u001b[K     |████████████████████████████████| 918 kB 59.9 MB/s \n",
            "\u001b[?25hRequirement already satisfied: multiprocess in /usr/local/lib/python3.7/dist-packages (from datasets->keytotext) (0.70.12.2)\n",
            "Requirement already satisfied: pyarrow!=4.0.0,>=1.0.0 in /usr/local/lib/python3.7/dist-packages (from datasets->keytotext) (3.0.0)\n",
            "Collecting xxhash\n",
            "  Downloading xxhash-2.0.2-cp37-cp37m-manylinux2010_x86_64.whl (243 kB)\n",
            "\u001b[K     |████████████████████████████████| 243 kB 72.1 MB/s \n",
            "\u001b[?25hCollecting fsspec>=2021.05.0\n",
            "  Downloading fsspec-2021.8.1-py3-none-any.whl (119 kB)\n",
            "\u001b[K     |████████████████████████████████| 119 kB 74.6 MB/s \n",
            "\u001b[?25hRequirement already satisfied: numpy>=1.17 in /usr/local/lib/python3.7/dist-packages (from datasets->keytotext) (1.19.5)\n",
            "Requirement already satisfied: requests>=2.19.0 in /usr/local/lib/python3.7/dist-packages (from datasets->keytotext) (2.23.0)\n",
            "Requirement already satisfied: packaging in /usr/local/lib/python3.7/dist-packages (from datasets->keytotext) (21.0)\n",
            "Requirement already satisfied: pandas in /usr/local/lib/python3.7/dist-packages (from datasets->keytotext) (1.1.5)\n",
            "Collecting huggingface-hub<0.1.0\n",
            "  Downloading huggingface_hub-0.0.16-py3-none-any.whl (50 kB)\n",
            "\u001b[K     |████████████████████████████████| 50 kB 6.1 MB/s \n",
            "\u001b[?25hRequirement already satisfied: tqdm>=4.42 in /usr/local/lib/python3.7/dist-packages (from datasets->keytotext) (4.62.0)\n",
            "Requirement already satisfied: dill in /usr/local/lib/python3.7/dist-packages (from datasets->keytotext) (0.3.4)\n",
            "Requirement already satisfied: importlib-metadata in /usr/local/lib/python3.7/dist-packages (from datasets->keytotext) (4.6.4)\n",
            "Requirement already satisfied: typing-extensions in /usr/local/lib/python3.7/dist-packages (from huggingface-hub<0.1.0->datasets->keytotext) (3.7.4.3)\n",
            "Requirement already satisfied: filelock in /usr/local/lib/python3.7/dist-packages (from huggingface-hub<0.1.0->datasets->keytotext) (3.0.12)\n",
            "Requirement already satisfied: pyparsing>=2.0.2 in /usr/local/lib/python3.7/dist-packages (from packaging->datasets->keytotext) (2.4.7)\n",
            "Requirement already satisfied: certifi>=2017.4.17 in /usr/local/lib/python3.7/dist-packages (from requests>=2.19.0->datasets->keytotext) (2021.5.30)\n",
            "Requirement already satisfied: idna<3,>=2.5 in /usr/local/lib/python3.7/dist-packages (from requests>=2.19.0->datasets->keytotext) (2.10)\n",
            "Requirement already satisfied: chardet<4,>=3.0.2 in /usr/local/lib/python3.7/dist-packages (from requests>=2.19.0->datasets->keytotext) (3.0.4)\n",
            "Requirement already satisfied: urllib3!=1.25.0,!=1.25.1,<1.26,>=1.21.1 in /usr/local/lib/python3.7/dist-packages (from requests>=2.19.0->datasets->keytotext) (1.24.3)\n",
            "Requirement already satisfied: zipp>=0.5 in /usr/local/lib/python3.7/dist-packages (from importlib-metadata->datasets->keytotext) (3.5.0)\n",
            "Requirement already satisfied: pytz>=2017.2 in /usr/local/lib/python3.7/dist-packages (from pandas->datasets->keytotext) (2018.9)\n",
            "Requirement already satisfied: python-dateutil>=2.7.3 in /usr/local/lib/python3.7/dist-packages (from pandas->datasets->keytotext) (2.8.2)\n",
            "Requirement already satisfied: six>=1.5 in /usr/local/lib/python3.7/dist-packages (from python-dateutil>=2.7.3->pandas->datasets->keytotext) (1.15.0)\n",
            "Requirement already satisfied: tensorboard>=2.2.0 in /usr/local/lib/python3.7/dist-packages (from pytorch_lightning->keytotext) (2.6.0)\n",
            "Collecting future>=0.17.1\n",
            "  Downloading future-0.18.2.tar.gz (829 kB)\n",
            "\u001b[K     |████████████████████████████████| 829 kB 66.5 MB/s \n",
            "\u001b[?25hCollecting pyDeprecate==0.3.1\n",
            "  Downloading pyDeprecate-0.3.1-py3-none-any.whl (10 kB)\n",
            "Collecting torchmetrics>=0.4.0\n",
            "  Downloading torchmetrics-0.5.0-py3-none-any.whl (272 kB)\n",
            "\u001b[K     |████████████████████████████████| 272 kB 54.2 MB/s \n",
            "\u001b[?25hCollecting PyYAML>=5.1\n",
            "  Downloading PyYAML-5.4.1-cp37-cp37m-manylinux1_x86_64.whl (636 kB)\n",
            "\u001b[K     |████████████████████████████████| 636 kB 61.1 MB/s \n",
            "\u001b[?25hCollecting aiohttp\n",
            "  Downloading aiohttp-3.7.4.post0-cp37-cp37m-manylinux2014_x86_64.whl (1.3 MB)\n",
            "\u001b[K     |████████████████████████████████| 1.3 MB 43.0 MB/s \n",
            "\u001b[?25hRequirement already satisfied: google-auth<2,>=1.6.3 in /usr/local/lib/python3.7/dist-packages (from tensorboard>=2.2.0->pytorch_lightning->keytotext) (1.34.0)\n",
            "Requirement already satisfied: setuptools>=41.0.0 in /usr/local/lib/python3.7/dist-packages (from tensorboard>=2.2.0->pytorch_lightning->keytotext) (57.4.0)\n",
            "Requirement already satisfied: wheel>=0.26 in /usr/local/lib/python3.7/dist-packages (from tensorboard>=2.2.0->pytorch_lightning->keytotext) (0.37.0)\n",
            "Requirement already satisfied: tensorboard-plugin-wit>=1.6.0 in /usr/local/lib/python3.7/dist-packages (from tensorboard>=2.2.0->pytorch_lightning->keytotext) (1.8.0)\n",
            "Requirement already satisfied: werkzeug>=0.11.15 in /usr/local/lib/python3.7/dist-packages (from tensorboard>=2.2.0->pytorch_lightning->keytotext) (1.0.1)\n",
            "Requirement already satisfied: markdown>=2.6.8 in /usr/local/lib/python3.7/dist-packages (from tensorboard>=2.2.0->pytorch_lightning->keytotext) (3.3.4)\n",
            "Requirement already satisfied: tensorboard-data-server<0.7.0,>=0.6.0 in /usr/local/lib/python3.7/dist-packages (from tensorboard>=2.2.0->pytorch_lightning->keytotext) (0.6.1)\n",
            "Requirement already satisfied: protobuf>=3.6.0 in /usr/local/lib/python3.7/dist-packages (from tensorboard>=2.2.0->pytorch_lightning->keytotext) (3.17.3)\n",
            "Requirement already satisfied: absl-py>=0.4 in /usr/local/lib/python3.7/dist-packages (from tensorboard>=2.2.0->pytorch_lightning->keytotext) (0.12.0)\n",
            "Requirement already satisfied: grpcio>=1.24.3 in /usr/local/lib/python3.7/dist-packages (from tensorboard>=2.2.0->pytorch_lightning->keytotext) (1.39.0)\n",
            "Requirement already satisfied: google-auth-oauthlib<0.5,>=0.4.1 in /usr/local/lib/python3.7/dist-packages (from tensorboard>=2.2.0->pytorch_lightning->keytotext) (0.4.5)\n",
            "Requirement already satisfied: cachetools<5.0,>=2.0.0 in /usr/local/lib/python3.7/dist-packages (from google-auth<2,>=1.6.3->tensorboard>=2.2.0->pytorch_lightning->keytotext) (4.2.2)\n",
            "Requirement already satisfied: pyasn1-modules>=0.2.1 in /usr/local/lib/python3.7/dist-packages (from google-auth<2,>=1.6.3->tensorboard>=2.2.0->pytorch_lightning->keytotext) (0.2.8)\n",
            "Requirement already satisfied: rsa<5,>=3.1.4 in /usr/local/lib/python3.7/dist-packages (from google-auth<2,>=1.6.3->tensorboard>=2.2.0->pytorch_lightning->keytotext) (4.7.2)\n",
            "Requirement already satisfied: requests-oauthlib>=0.7.0 in /usr/local/lib/python3.7/dist-packages (from google-auth-oauthlib<0.5,>=0.4.1->tensorboard>=2.2.0->pytorch_lightning->keytotext) (1.3.0)\n",
            "Requirement already satisfied: pyasn1<0.5.0,>=0.4.6 in /usr/local/lib/python3.7/dist-packages (from pyasn1-modules>=0.2.1->google-auth<2,>=1.6.3->tensorboard>=2.2.0->pytorch_lightning->keytotext) (0.4.8)\n",
            "Requirement already satisfied: oauthlib>=3.0.0 in /usr/local/lib/python3.7/dist-packages (from requests-oauthlib>=0.7.0->google-auth-oauthlib<0.5,>=0.4.1->tensorboard>=2.2.0->pytorch_lightning->keytotext) (3.1.1)\n",
            "Collecting multidict<7.0,>=4.5\n",
            "  Downloading multidict-5.1.0-cp37-cp37m-manylinux2014_x86_64.whl (142 kB)\n",
            "\u001b[K     |████████████████████████████████| 142 kB 56.0 MB/s \n",
            "\u001b[?25hRequirement already satisfied: attrs>=17.3.0 in /usr/local/lib/python3.7/dist-packages (from aiohttp->fsspec>=2021.05.0->datasets->keytotext) (21.2.0)\n",
            "Collecting async-timeout<4.0,>=3.0\n",
            "  Downloading async_timeout-3.0.1-py3-none-any.whl (8.2 kB)\n",
            "Collecting yarl<2.0,>=1.0\n",
            "  Downloading yarl-1.6.3-cp37-cp37m-manylinux2014_x86_64.whl (294 kB)\n",
            "\u001b[K     |████████████████████████████████| 294 kB 67.2 MB/s \n",
            "\u001b[?25hCollecting tokenizers<0.11,>=0.10.1\n",
            "  Downloading tokenizers-0.10.3-cp37-cp37m-manylinux_2_5_x86_64.manylinux1_x86_64.manylinux_2_12_x86_64.manylinux2010_x86_64.whl (3.3 MB)\n",
            "\u001b[K     |████████████████████████████████| 3.3 MB 27.2 MB/s \n",
            "\u001b[?25hCollecting sacremoses\n",
            "  Downloading sacremoses-0.0.45-py3-none-any.whl (895 kB)\n",
            "\u001b[K     |████████████████████████████████| 895 kB 74.0 MB/s \n",
            "\u001b[?25hRequirement already satisfied: regex!=2019.12.17 in /usr/local/lib/python3.7/dist-packages (from transformers->keytotext) (2019.12.20)\n",
            "Requirement already satisfied: click in /usr/local/lib/python3.7/dist-packages (from sacremoses->transformers->keytotext) (7.1.2)\n",
            "Requirement already satisfied: joblib in /usr/local/lib/python3.7/dist-packages (from sacremoses->transformers->keytotext) (1.0.1)\n",
            "Collecting pathtools\n",
            "  Downloading pathtools-0.1.2.tar.gz (11 kB)\n",
            "Requirement already satisfied: promise<3,>=2.0 in /usr/local/lib/python3.7/dist-packages (from wandb->keytotext) (2.3)\n",
            "Collecting sentry-sdk>=1.0.0\n",
            "  Downloading sentry_sdk-1.3.1-py2.py3-none-any.whl (133 kB)\n",
            "\u001b[K     |████████████████████████████████| 133 kB 68.1 MB/s \n",
            "\u001b[?25hCollecting docker-pycreds>=0.4.0\n",
            "  Downloading docker_pycreds-0.4.0-py2.py3-none-any.whl (9.0 kB)\n",
            "Collecting GitPython>=1.0.0\n",
            "  Downloading GitPython-3.1.18-py3-none-any.whl (170 kB)\n",
            "\u001b[K     |████████████████████████████████| 170 kB 28.0 MB/s \n",
            "\u001b[?25hCollecting subprocess32>=3.5.3\n",
            "  Downloading subprocess32-3.5.4.tar.gz (97 kB)\n",
            "\u001b[K     |████████████████████████████████| 97 kB 6.4 MB/s \n",
            "\u001b[?25hRequirement already satisfied: psutil>=5.0.0 in /usr/local/lib/python3.7/dist-packages (from wandb->keytotext) (5.4.8)\n",
            "Collecting shortuuid>=0.5.0\n",
            "  Downloading shortuuid-1.0.1-py3-none-any.whl (7.5 kB)\n",
            "Collecting configparser>=3.8.1\n",
            "  Downloading configparser-5.0.2-py3-none-any.whl (19 kB)\n",
            "Collecting gitdb<5,>=4.0.1\n",
            "  Downloading gitdb-4.0.7-py3-none-any.whl (63 kB)\n",
            "\u001b[K     |████████████████████████████████| 63 kB 1.7 MB/s \n",
            "\u001b[?25hCollecting smmap<5,>=3.0.1\n",
            "  Downloading smmap-4.0.0-py2.py3-none-any.whl (24 kB)\n",
            "Building wheels for collected packages: future, subprocess32, pathtools\n",
            "  Building wheel for future (setup.py) ... \u001b[?25l\u001b[?25hdone\n",
            "  Created wheel for future: filename=future-0.18.2-py3-none-any.whl size=491070 sha256=41973a45d7437014094812a4a6d0294fa0468798e4f5e46fe7c08ba145f043cc\n",
            "  Stored in directory: /root/.cache/pip/wheels/56/b0/fe/4410d17b32f1f0c3cf54cdfb2bc04d7b4b8f4ae377e2229ba0\n",
            "  Building wheel for subprocess32 (setup.py) ... \u001b[?25l\u001b[?25hdone\n",
            "  Created wheel for subprocess32: filename=subprocess32-3.5.4-py3-none-any.whl size=6502 sha256=efdc11575bbe4ce6dde724b0e7ac0052ef79bc41be1e370417b6162db07a5575\n",
            "  Stored in directory: /root/.cache/pip/wheels/50/ca/fa/8fca8d246e64f19488d07567547ddec8eb084e8c0d7a59226a\n",
            "  Building wheel for pathtools (setup.py) ... \u001b[?25l\u001b[?25hdone\n",
            "  Created wheel for pathtools: filename=pathtools-0.1.2-py3-none-any.whl size=8807 sha256=890c52048f8aa3352b414a28d1592f01b75734e1ae1c53ba7556c67ac53a3554\n",
            "  Stored in directory: /root/.cache/pip/wheels/3e/31/09/fa59cef12cdcfecc627b3d24273699f390e71828921b2cbba2\n",
            "Successfully built future subprocess32 pathtools\n",
            "Installing collected packages: multidict, yarl, smmap, async-timeout, gitdb, fsspec, aiohttp, xxhash, torchmetrics, tokenizers, subprocess32, shortuuid, sentry-sdk, sacremoses, PyYAML, pyDeprecate, pathtools, huggingface-hub, GitPython, future, docker-pycreds, configparser, wandb, transformers, sentencepiece, pytorch-lightning, datasets, keytotext\n",
            "  Attempting uninstall: PyYAML\n",
            "    Found existing installation: PyYAML 3.13\n",
            "    Uninstalling PyYAML-3.13:\n",
            "      Successfully uninstalled PyYAML-3.13\n",
            "  Attempting uninstall: future\n",
            "    Found existing installation: future 0.16.0\n",
            "    Uninstalling future-0.16.0:\n",
            "      Successfully uninstalled future-0.16.0\n",
            "Successfully installed GitPython-3.1.18 PyYAML-5.4.1 aiohttp-3.7.4.post0 async-timeout-3.0.1 configparser-5.0.2 datasets-1.11.0 docker-pycreds-0.4.0 fsspec-2021.8.1 future-0.18.2 gitdb-4.0.7 huggingface-hub-0.0.16 keytotext-1.5.0 multidict-5.1.0 pathtools-0.1.2 pyDeprecate-0.3.1 pytorch-lightning-1.4.4 sacremoses-0.0.45 sentencepiece-0.1.96 sentry-sdk-1.3.1 shortuuid-1.0.1 smmap-4.0.0 subprocess32-3.5.4 tokenizers-0.10.3 torchmetrics-0.5.0 transformers-4.10.0 wandb-0.12.1 xxhash-2.0.2 yarl-1.6.3\n"
          ]
        }
      ]
    },
    {
      "cell_type": "code",
      "metadata": {
        "id": "VXY84LXf236-",
        "colab": {
          "base_uri": "https://localhost:8080/",
          "height": 262,
          "referenced_widgets": [
            "4a5d8e7718544e638fe32712d49fe5e4",
            "520c834bcbb34e76b4bb1a588b7b4802",
            "719cb39d5a7748a4b408c1b6b2350882",
            "23c03248f6e44e4588e621705ed71888",
            "aa23613a1dd64782b2952a7905f421ed",
            "88e1be4815384d058e5cf3aee071ede2",
            "4bf42140178b429c98d0e396d88f5d6b",
            "0876e6029d204826a8826419c17f1447",
            "948650b8e1f1409db826f988c16791f6",
            "f0f52bdb72ad42d7bcd50a162ec76f0c",
            "45818881a2de472cafa3a75c8b83908d",
            "878ac06e06a6491eb2829be56167919f",
            "9befebd40a51425284126de77f7d4eae",
            "688f0ecb306e438ba2672bc94f8047db",
            "cdf46ea85e3d481ca42cb68231fde34f",
            "4c007bdd35374df19579be3db02b7b1c",
            "a078b7abe3114b539847fdfaa1ceecd1",
            "84468cee52f1405ba25160893caa0cfa",
            "906a6835bfca4cc89cf25ecdda5ac58c",
            "ad6a23096ea546cba45dadbec8a31f8c",
            "78a206f521b547b89b627350f3e49501",
            "f2c4b1644ac94838b840c31f8772c0a4",
            "30afdaaf39684047b437de45c9be08c3",
            "d627534a182142b4ab6fbc4c113d4178",
            "d8cf5a0a9226471fa3378c2304f0acb3",
            "48cb57d3fd914d00a3491278f62facf3",
            "2efc085e30b843ebad40d25f89e04d9a",
            "7a8d4cceb93143d6ac0579b902201ebb",
            "afa0b91166a54ac6bdb8bd5a1f476a44",
            "748fd8eec5af4f2788886e2c013516c0",
            "e69239be53e04958a254e56a46c36286",
            "82e43264d9f04b45be656ed8416b1694",
            "f5d2be664b624864951f665cb55154cb",
            "f2b2ae8bc4fb42f693505677fa7f78c5",
            "1befffa13d974bac83b6658917decf28",
            "cb9b84a0b1f748e9997ba5de0163b247",
            "409acfcdce9744e5a503350c792fda0e",
            "90c98132a41e41e7b38163c14ce01e9f",
            "9f3b7c00e67e49a9bd5e8f47663aa2fd",
            "b561f4ecafc04059ad7dc174f059d38e",
            "df03924096264b78863679c1846b26fa",
            "07ab51ab474e40a39327ed41e3bbf583",
            "b00478afbf4a45f5a8604a8688e41040",
            "df1ccea484bc48c8ab734db744a23575",
            "0d5580ea2ddc45a09f2b6365e020f81c",
            "64cb08e3655f4e22adaa22627d472a42",
            "eb815157203145fbae9e92d204ef6e7b",
            "b1a60f2002ea4402bef513ae278f6974",
            "efa51eb8acec473b8d6f642095c99958",
            "a4bdff9cee0947949c266055e5c489d9",
            "483ad72afea94589a7580462bb155c4e",
            "ba7f652f51aa488d87bfd588d6b4ed5e",
            "03c96e26486246278b235fd9653818e3",
            "f995dc734a7345af989752cc72dc9b16",
            "b7c632048a3748298967460562b5faef"
          ]
        },
        "outputId": "f1702805-3126-4672-9b10-969e6d291535"
      },
      "source": [
        "from keytotext import pipeline \n",
        "import random\n",
        "\n",
        "\"\"\"\n",
        "Keytotext is based on the T5 Model where you can choose to work with one of these pipelines\n",
        "k2t: Model\n",
        "k2t-base: Model\n",
        "mrm8488/t5-base-finetuned-common_gen (by Manuel Romero): Model --> i chose to work with this one because it had the best performance\n",
        "\"\"\"\n",
        "nlp_t5 = pipeline(\"mrm8488/t5-base-finetuned-common_gen\")\n"
      ],
      "execution_count": 2,
      "outputs": [
        {
          "output_type": "stream",
          "name": "stderr",
          "text": [
            "Global seed set to 42\n"
          ]
        },
        {
          "output_type": "display_data",
          "data": {
            "application/vnd.jupyter.widget-view+json": {
              "model_id": "4a5d8e7718544e638fe32712d49fe5e4",
              "version_minor": 0,
              "version_major": 2
            },
            "text/plain": [
              "Downloading:   0%|          | 0.00/25.0 [00:00<?, ?B/s]"
            ]
          },
          "metadata": {}
        },
        {
          "output_type": "display_data",
          "data": {
            "application/vnd.jupyter.widget-view+json": {
              "model_id": "878ac06e06a6491eb2829be56167919f",
              "version_minor": 0,
              "version_major": 2
            },
            "text/plain": [
              "Downloading:   0%|          | 0.00/1.29k [00:00<?, ?B/s]"
            ]
          },
          "metadata": {}
        },
        {
          "output_type": "stream",
          "name": "stderr",
          "text": [
            "The `xla_device` argument has been deprecated in v4.4.0 of Transformers. It is ignored and you can safely remove it from your `config.json` file.\n"
          ]
        },
        {
          "output_type": "display_data",
          "data": {
            "application/vnd.jupyter.widget-view+json": {
              "model_id": "30afdaaf39684047b437de45c9be08c3",
              "version_minor": 0,
              "version_major": 2
            },
            "text/plain": [
              "Downloading:   0%|          | 0.00/792k [00:00<?, ?B/s]"
            ]
          },
          "metadata": {}
        },
        {
          "output_type": "display_data",
          "data": {
            "application/vnd.jupyter.widget-view+json": {
              "model_id": "f2b2ae8bc4fb42f693505677fa7f78c5",
              "version_minor": 0,
              "version_major": 2
            },
            "text/plain": [
              "Downloading:   0%|          | 0.00/1.79k [00:00<?, ?B/s]"
            ]
          },
          "metadata": {}
        },
        {
          "output_type": "stream",
          "name": "stderr",
          "text": [
            "The `xla_device` argument has been deprecated in v4.4.0 of Transformers. It is ignored and you can safely remove it from your `config.json` file.\n",
            "The `xla_device` argument has been deprecated in v4.4.0 of Transformers. It is ignored and you can safely remove it from your `config.json` file.\n",
            "The `xla_device` argument has been deprecated in v4.4.0 of Transformers. It is ignored and you can safely remove it from your `config.json` file.\n"
          ]
        },
        {
          "output_type": "display_data",
          "data": {
            "application/vnd.jupyter.widget-view+json": {
              "model_id": "0d5580ea2ddc45a09f2b6365e020f81c",
              "version_minor": 0,
              "version_major": 2
            },
            "text/plain": [
              "Downloading:   0%|          | 0.00/1.19G [00:00<?, ?B/s]"
            ]
          },
          "metadata": {}
        }
      ]
    },
    {
      "cell_type": "code",
      "metadata": {
        "colab": {
          "base_uri": "https://localhost:8080/"
        },
        "id": "U2ms_v68J8Ub",
        "outputId": "105252b9-0efe-4f1b-92c5-ff2dfba907fd"
      },
      "source": [
        "\n",
        "import json\n",
        "\"\"\"\n",
        "this program takes json files as input\n",
        "the json file have the details of the real estate\n",
        "i have prepared 4 files to experiment with\n",
        "change the file path to examine the results\n",
        "\n",
        "1- \"/content/input_apartment.json\" : to describe an apartment\n",
        "2- \"/content/input_land.json\" : to describe a land\n",
        "3- \"/content/input_office.json\" : to describe an office\n",
        "4- \"/content/input_villa.json\" : to describe a villa\n",
        "\"\"\"\n",
        "\n",
        "with open('/content/input_apartment.json') as f:\n",
        "  data = json.load(f)\n",
        "data"
      ],
      "execution_count": 3,
      "outputs": [
        {
          "output_type": "execute_result",
          "data": {
            "text/plain": [
              "{'Agent': 'riadh agency',\n",
              " 'Agreement': 'exclusive',\n",
              " 'Agreement expiry date': '',\n",
              " 'Amenities': 'Air conditioner,Equipped kitchen,Optical fiber,Garden,Clean Title,Alarm,Guardian,Double glazing,Calmed down,Master Bedroom,Camera,Pool,Dishwasher outlet,Luminous,Double Kitchen,Central heating,Veranda,LiftService Room,Terrace',\n",
              " 'Around The Property': 'Near Post,Close Bank,Near Café,Close to Resto,Near Clinic,Near School,Near nursery,Close to Transport,Close to shops,Close to the park,Near metro,Near train station',\n",
              " 'Bathroom': '1',\n",
              " 'Bedrooms': '2',\n",
              " 'City': 'ennasr',\n",
              " 'Commission': '5822',\n",
              " 'Country': 'tunis',\n",
              " 'Date': '07/22/2021',\n",
              " 'District': 'dd / mm / yyyy',\n",
              " 'Floor number': '3',\n",
              " 'Furnished': 'yes',\n",
              " 'Landlord': '',\n",
              " 'Landlord Phone': '25658987',\n",
              " 'Landlord mail': 'mail@mail.com',\n",
              " 'Lot size': '170',\n",
              " 'Nature': 'residential',\n",
              " 'Neighborhood': '',\n",
              " 'Parking price': '250',\n",
              " 'Parkings': '1',\n",
              " 'Property Condition': 'good',\n",
              " 'Property Finishing': 'high standing',\n",
              " 'Property ID': '1',\n",
              " 'Property management fees': '500',\n",
              " 'Property name': 'name',\n",
              " 'Property price': '2500',\n",
              " 'Property size': '170',\n",
              " 'Rooms': '3',\n",
              " 'State': 'ariana',\n",
              " 'Transaction': 'for rent',\n",
              " 'Type': 'Apartment',\n",
              " 'View Of The Property': 'open view, Garden view',\n",
              " 'WC': '1'}"
            ]
          },
          "metadata": {},
          "execution_count": 3
        }
      ]
    },
    {
      "cell_type": "code",
      "metadata": {
        "id": "9ZhRe2LzUxyG"
      },
      "source": [
        "#extract the variables that you need to work with from the json file\n",
        "agreement=data['Agreement']\n",
        "agent=data['Agent']\n",
        "ppty_id= data['Property ID']\n",
        "ppty_price=data['Property price']\n",
        "parking_price=data['Parking price']\n",
        "around_the_property=[]\n",
        "\n",
        "#location\n",
        "country,state,city,neighborhood=data['Country'],data['State'],data['City'],data['Neighborhood']\n",
        "\n",
        "nature,ppty_finishing,ppty_condition,type,transaction= data['Nature'],data['Property Finishing'],data[ 'Property Condition'] ,data[ 'Type'],data[ 'Transaction']\n",
        "\n",
        "\n",
        "bathroom,bedrooms,rooms,wc=data['Bathroom'],data['Bedrooms'],data['Rooms'],data['WC']\n",
        "\n",
        "bathroom=str(int(bathroom)+int(wc)) #total number of bathrooms in the house\n",
        "\n",
        "furnished=data['Furnished']\n",
        "\n",
        "lot_size,ppty_size = data[ 'Lot size' ], data['Property size']\n",
        "\n",
        "parking= data['Parkings']\n",
        "\n",
        "amenties= data['Amenities' ].split(\",\")\n",
        "\n",
        "around_the_property= data[ 'Around The Property' ].split(\",\")\n",
        "\n",
        "view_of_the_property= data['View Of The Property'].split(\",\")"
      ],
      "execution_count": 4,
      "outputs": []
    },
    {
      "cell_type": "code",
      "metadata": {
        "id": "H_nHHNDlubD9"
      },
      "source": [
        "if furnished==\"yes\":\n",
        "  furnished=\"Furnished\"\n",
        "else:\n",
        "  furnished= \"\"\n",
        "\n"
      ],
      "execution_count": 5,
      "outputs": []
    },
    {
      "cell_type": "code",
      "metadata": {
        "id": "PZ_f3SNBKWRB"
      },
      "source": [
        "#we are going to start the description with a static opening\n",
        "\n",
        "s_price=\"Property Price: \"+ppty_price+\"\\n\"\n",
        "s_parking=\"\"\n",
        "if parking!=\"0\":\n",
        "  s_parking=\"Parking price: \"+parking_price+\"\\n\"\n",
        "if agreement==\"exclusive\":\n",
        "  s_agreement=\"Exclusive \"+\"\\n\"\n",
        "\n",
        "s_id=\"Property ID: \"+ppty_id+\"\\n\\n\"\n"
      ],
      "execution_count": 8,
      "outputs": []
    },
    {
      "cell_type": "code",
      "metadata": {
        "id": "WryMYO1ZReHk",
        "colab": {
          "base_uri": "https://localhost:8080/"
        },
        "outputId": "5f9821d0-7bc9-4a6d-83b6-b621c2114b1f"
      },
      "source": [
        "#lists of adj and phrases to randomly choose from\n",
        "vocab=[\"Alluring\",\"Stunning\",\"Irresistible\",\"Exquisite\",\"Fascinating\",\"Dazzling\",\"Astonishing\",\"Astounding\",\"Awesome\",\"Breathtaking\",\"Captivating\",\"beautiful\",\"fabulous\",\"lovely\",\"exceptional \",\"fantastic\",\"great\"]\n",
        "\n",
        "starting_phrase=[\"Come and discover our amazing offer on this \",\"Don't miss out this opportunity on this \",\"check out this great deal on this \"]\n",
        "\n",
        "closing_phrase=[\"We will be delighted to receive you at an agency or for a free visit with one of our advisers.\",\"Plan your visit to this exceptional property now.\",\"For any further information, do not hesitate to contact the agency to schedule a free visit.\",\"Easy to show! Call your agent to schedule a showing today!\",\"Showings available with 24 hour notice. Text or email to schedule time before it's gone!\"]\n",
        "\n",
        "s_vocab=random.choice(vocab)+\" \"\n",
        "s_starting_phrase=random.choice(starting_phrase)\n",
        "s_closing_phrase=random.choice(closing_phrase)\n",
        "\n",
        "\n",
        "if nature==\"Land\":\n",
        "  s_start=(\" \"+type+\" \"+transaction).lower()+\": \\n\"\n",
        "else:\n",
        "  s_start=(furnished+\" \"+ rooms+\"-room \"+type+\" \"+transaction).lower()+\": \\n\"\n",
        "\n",
        "text=[s_price,s_parking,s_agreement,s_id,s_starting_phrase,s_vocab,s_start]\n",
        "final_start=''.join(text)\n",
        "\n",
        "print(\"Static opening\")\n",
        "print(\"-\" *100)\n",
        "print (final_start)\n"
      ],
      "execution_count": 9,
      "outputs": [
        {
          "output_type": "stream",
          "name": "stdout",
          "text": [
            "Static opening\n",
            "----------------------------------------------------------------------------------------------------\n",
            "Property Price: 2500\n",
            "Parking price: 250\n",
            "Exclusive \n",
            "Property ID: 1\n",
            "\n",
            "Come and discover our amazing offer on this Exquisite furnished 3-room apartment for rent: \n",
            "\n"
          ]
        }
      ]
    },
    {
      "cell_type": "code",
      "metadata": {
        "colab": {
          "base_uri": "https://localhost:8080/",
          "height": 35
        },
        "id": "2shNMfKk9_bi",
        "outputId": "2327502d-aa33-4ca5-f28e-188eb9666cf0"
      },
      "source": [
        "\"\"\"\n",
        "From this point forward we will start generating sentences with k2t model by feeding it keywords\n",
        "\"\"\""
      ],
      "execution_count": 10,
      "outputs": [
        {
          "output_type": "execute_result",
          "data": {
            "application/vnd.google.colaboratory.intrinsic+json": {
              "type": "string"
            },
            "text/plain": [
              "'\\nFrom this point forward we will start generating sentences with k2t model by feeding it keywords\\n'"
            ]
          },
          "metadata": {},
          "execution_count": 10
        }
      ]
    },
    {
      "cell_type": "code",
      "metadata": {
        "colab": {
          "base_uri": "https://localhost:8080/"
        },
        "id": "Z6QnEnotpGAH",
        "outputId": "fed7daa8-4181-4583-b781-1ce13b31e1d8"
      },
      "source": [
        "#sentence 1 describing the final condition of the property \n",
        "\n",
        "if nature==\"Land\":\n",
        "  s1=\"\"\n",
        "else:\n",
        "  ph1 = [nature,type,ppty_condition,\"condition\",ppty_finishing,\"finishing\"]\n",
        "  s1=nlp_t5(ph1)\n",
        "\n",
        "print(\"the keywords used are :\\n\")\n",
        "print(ph1)\n",
        "print(\"-\" *100)\n",
        "print(\"the sentence generated :\\n\")\n",
        "print(s1)\n",
        "\n"
      ],
      "execution_count": 11,
      "outputs": [
        {
          "output_type": "stream",
          "name": "stdout",
          "text": [
            "the keywords used are :\n",
            "\n",
            "['residential', 'Apartment', 'good', 'condition', 'high standing', 'finishing']\n",
            "----------------------------------------------------------------------------------------------------\n",
            "the sentence generated :\n",
            "\n",
            "the apartment is in good condition and has been finished in high standing.\n"
          ]
        }
      ]
    },
    {
      "cell_type": "code",
      "metadata": {
        "id": "SDJ3l34P24td",
        "colab": {
          "base_uri": "https://localhost:8080/"
        },
        "outputId": "58215389-ed50-4b62-c539-648cfb18f03d"
      },
      "source": [
        "#sentence 2 describing the size of the property \n",
        "\n",
        "if nature==\"Land\":\n",
        "  ph2 = [nature,\"area\",lot_size,\"m²\"]\n",
        "  s2=nlp_t5(ph2)\n",
        "elif type==\"villa\":\n",
        "  ph21 = [\"it\",\"Property Size\",ppty_size,\"m²\"]\n",
        "  s21=nlp_t5(ph21)\n",
        "  ph22 = [\"it\",\"Lot Size\",lot_size,\"m²\"]\n",
        "  s22=nlp_t5(ph22)\n",
        "  ph2=ph21+ph22\n",
        "  s2=s21+\" and \"+s22\n",
        "else:\n",
        "  ph2 = [\"it\",\"Property Size\",ppty_size,\"m²\"]\n",
        "  s2=nlp_t5(ph2)\n",
        "\n",
        "print(\"the keywords used are :\\n\")\n",
        "print(ph2)\n",
        "print(\"-\" *100)\n",
        "print(\"the sentence generated :\\n\")\n",
        "print(s2)"
      ],
      "execution_count": 12,
      "outputs": [
        {
          "output_type": "stream",
          "name": "stdout",
          "text": [
            "the keywords used are :\n",
            "\n",
            "['it', 'Property Size', '170', 'm²']\n",
            "----------------------------------------------------------------------------------------------------\n",
            "the sentence generated :\n",
            "\n",
            "this property has a total of 170 m2 of living space.\n"
          ]
        }
      ]
    },
    {
      "cell_type": "code",
      "metadata": {
        "colab": {
          "base_uri": "https://localhost:8080/"
        },
        "id": "N7JjWnwu0iWr",
        "outputId": "30f951de-3ee9-419d-af64-fd2b5d20513d"
      },
      "source": [
        "#sentence 3 describing the property is composed of \n",
        "\n",
        "if nature==\"Land\":\n",
        "  s3=\"\"\n",
        "else:\n",
        "  ph3 = [\"Property\",\"composed\",\"room\",rooms,\"bathroom\",bathroom]\n",
        "  s3=nlp_t5(ph3)\n",
        "\n",
        "print(\"the keywords used are :\\n\")\n",
        "print(ph3)\n",
        "print(\"-\" *100)\n",
        "print(\"the sentence generated :\\n\")\n",
        "print(s3)\n"
      ],
      "execution_count": 13,
      "outputs": [
        {
          "output_type": "stream",
          "name": "stdout",
          "text": [
            "the keywords used are :\n",
            "\n",
            "['Property', 'composed', 'room', '3', 'bathroom', '2']\n",
            "----------------------------------------------------------------------------------------------------\n",
            "the sentence generated :\n",
            "\n",
            "the property is composed of 3 bedrooms and 2 bathrooms.\n"
          ]
        }
      ]
    },
    {
      "cell_type": "code",
      "metadata": {
        "id": "Hs8NRT0B5c1u"
      },
      "source": [
        "\"\"\"\n",
        "When describing the property we have 20 amenties\n",
        "Step1: i chose 17 useful once with which i can generate sentences\n",
        "Step2: i devided these 17 amenties into coherent groups \n",
        "Step3: generate a sentence with each group \n",
        "Step4: join these sentences\n",
        "\"\"\"\n",
        "p1 = [ 'Equipped kitchen', 'Double Kitchen','Dishwasher outlet' ]\n",
        "p2 = ['Double glazing','Luminous','Calmed down']\n",
        "p3 = ['Central heating','Air conditioner']\n",
        "p4 = ['Pool','Terrace','Veranda']\n",
        "p5 = ['Optical fiber', 'LiftService Room','Camera']\n",
        "p6 = ['Garden', 'Alarm', 'Guardian']\n",
        "\n",
        "\n",
        "pp1=[]\n",
        "pp2=[]\n",
        "pp3=[]\n",
        "pp4=[]\n",
        "pp5=[]\n",
        "pp6=[]\n",
        "pp7=[]\n",
        "\n",
        "for x in amenties:\n",
        "  if x in p1:\n",
        "    pp1.append(x)\n",
        "  elif x in p2:\n",
        "    pp2.append(x)\n",
        "  elif x in p3:\n",
        "    pp3.append(x)\n",
        "  elif x in p4:\n",
        "    pp4.append(x)\n",
        "  elif x in p5:\n",
        "    pp5.append(x)\n",
        "  elif x in p6:\n",
        "    pp6.append(x)\n",
        "\n",
        "#i added some words to help with the description\n",
        "if len(pp1)!=0 :\n",
        "  pp1.append(\"kitchen\")\n",
        "if len(pp3)!=0 :\n",
        "  pp3.append(type)\n",
        "if len(pp4)!=0 :\n",
        "  pp4.append(type)\n",
        "if len(pp5)!=0 :\n",
        "  pp5.insert(0,'residence')\n",
        "if len(pp6)!=0 :\n",
        "  pp6.insert(0,'the property')\n",
        "\n",
        "s41,s42,s43,s44,s45,s46=\"\",\"\",\"\",\"\",\"\",\"\""
      ],
      "execution_count": 14,
      "outputs": []
    },
    {
      "cell_type": "code",
      "metadata": {
        "colab": {
          "base_uri": "https://localhost:8080/"
        },
        "id": "N3jrdqGx4anr",
        "outputId": "3e758355-b32b-428f-c456-112f86eb76da"
      },
      "source": [
        "if len(pp1)!=0 :\n",
        "  s41=nlp_t5(pp1)\n",
        "\n",
        "print(\"the keywords used are :\\n\")\n",
        "print(pp1)\n",
        "print(\"-\" *100)\n",
        "print(\"the sentence generated :\\n\")\n",
        "print(s41)"
      ],
      "execution_count": 15,
      "outputs": [
        {
          "output_type": "stream",
          "name": "stdout",
          "text": [
            "the keywords used are :\n",
            "\n",
            "['Equipped kitchen', 'Dishwasher outlet', 'Double Kitchen', 'kitchen']\n",
            "----------------------------------------------------------------------------------------------------\n",
            "the sentence generated :\n",
            "\n",
            "A kitchen with a double sink, a dishwasher, and an outlet.\n"
          ]
        }
      ]
    },
    {
      "cell_type": "code",
      "metadata": {
        "colab": {
          "base_uri": "https://localhost:8080/"
        },
        "id": "-m8Dluqe4afs",
        "outputId": "9288cce8-ca41-4609-893b-fbd43beab479"
      },
      "source": [
        "if len(pp2)!=0 :\n",
        "  s42=nlp_t5(pp2)\n",
        "\n",
        "print(\"the keywords used are :\\n\")\n",
        "print(pp2)\n",
        "print(\"-\" *100)\n",
        "print(\"the sentence generated :\\n\")\n",
        "print(s42)"
      ],
      "execution_count": 16,
      "outputs": [
        {
          "output_type": "stream",
          "name": "stdout",
          "text": [
            "the keywords used are :\n",
            "\n",
            "['Double glazing', 'Calmed down', 'Luminous']\n",
            "----------------------------------------------------------------------------------------------------\n",
            "the sentence generated :\n",
            "\n",
            "Luminous double glazing with a glass window down\n"
          ]
        }
      ]
    },
    {
      "cell_type": "code",
      "metadata": {
        "colab": {
          "base_uri": "https://localhost:8080/"
        },
        "id": "MpTj6Ne735d8",
        "outputId": "3005a1e0-43bd-4023-c1a9-eb90a17dc746"
      },
      "source": [
        "if len(pp3)!=0 :\n",
        "  s43=nlp_t5(pp3)\n",
        "\n",
        "print(\"the keywords used are :\\n\")\n",
        "print(pp3)\n",
        "print(\"-\" *100)\n",
        "print(\"the sentence generated :\\n\")\n",
        "print(s43)"
      ],
      "execution_count": 17,
      "outputs": [
        {
          "output_type": "stream",
          "name": "stdout",
          "text": [
            "the keywords used are :\n",
            "\n",
            "['Air conditioner', 'Central heating', 'Apartment']\n",
            "----------------------------------------------------------------------------------------------------\n",
            "the sentence generated :\n",
            "\n",
            "The apartment has a central heating and air conditioning.\n"
          ]
        }
      ]
    },
    {
      "cell_type": "code",
      "metadata": {
        "colab": {
          "base_uri": "https://localhost:8080/"
        },
        "id": "lZJF6aCS3URE",
        "outputId": "e7922147-cc07-4e7c-8f2d-820714a7ff4a"
      },
      "source": [
        "if len(pp4)!=0 :\n",
        "  s44=nlp_t5(pp4)\n",
        "\n",
        "print(\"the keywords used are :\\n\")\n",
        "print(pp4)\n",
        "print(\"-\" *100)\n",
        "print(\"the sentence generated :\\n\")\n",
        "print(s44)"
      ],
      "execution_count": 18,
      "outputs": [
        {
          "output_type": "stream",
          "name": "stdout",
          "text": [
            "the keywords used are :\n",
            "\n",
            "['Pool', 'Veranda', 'Terrace', 'Apartment']\n",
            "----------------------------------------------------------------------------------------------------\n",
            "the sentence generated :\n",
            "\n",
            "the apartment has a terrace and a pool.\n"
          ]
        }
      ]
    },
    {
      "cell_type": "code",
      "metadata": {
        "colab": {
          "base_uri": "https://localhost:8080/"
        },
        "id": "ZuqXZ5-128FC",
        "outputId": "6a957a5d-4ac2-41a8-ac03-afca51488d86"
      },
      "source": [
        "if len(pp5)!=0 :\n",
        "  s45=nlp_t5(pp5)\n",
        "\n",
        "print(\"the keywords used are :\\n\")\n",
        "print(pp5)\n",
        "print(\"-\" *100)\n",
        "print(\"the sentence generated :\\n\")\n",
        "print(s45)"
      ],
      "execution_count": 19,
      "outputs": [
        {
          "output_type": "stream",
          "name": "stdout",
          "text": [
            "the keywords used are :\n",
            "\n",
            "['residence', 'Optical fiber', 'Camera', 'LiftService Room']\n",
            "----------------------------------------------------------------------------------------------------\n",
            "the sentence generated :\n",
            "\n",
            "A residence with a lift and a camera on it.\n"
          ]
        }
      ]
    },
    {
      "cell_type": "code",
      "metadata": {
        "colab": {
          "base_uri": "https://localhost:8080/"
        },
        "id": "cLMnhfE3203m",
        "outputId": "ae2c526b-eee7-4ebc-f8ac-a7aec38fa3b2"
      },
      "source": [
        "if len(pp6)!=0 :\n",
        "  s46=nlp_t5(pp6)\n",
        "\n",
        "print(\"the keywords used are :\\n\")\n",
        "print(pp6)\n",
        "print(\"-\" *100)\n",
        "print(\"the sentence generated :\\n\")\n",
        "print(s46)"
      ],
      "execution_count": 20,
      "outputs": [
        {
          "output_type": "stream",
          "name": "stdout",
          "text": [
            "the keywords used are :\n",
            "\n",
            "['the property', 'Garden', 'Alarm', 'Guardian']\n",
            "----------------------------------------------------------------------------------------------------\n",
            "the sentence generated :\n",
            "\n",
            "the garden of the property is monitored by a security guard.\n"
          ]
        }
      ]
    },
    {
      "cell_type": "code",
      "metadata": {
        "id": "4r-l5Q3i35eR",
        "colab": {
          "base_uri": "https://localhost:8080/"
        },
        "outputId": "a6ad2ba4-8e78-4172-caa8-3a3030f4a14b"
      },
      "source": [
        "#sentence 4 describing the amenties of the property \n",
        "\n",
        "am=[s41,s42,s43,s44,s45,s46]\n",
        "if amenties==['']:\n",
        "  s4=''\n",
        "else:\n",
        "  s4=' '.join(am)\n",
        "ph4=pp1+pp2+pp3+pp4+pp5+pp6\n",
        "\n",
        "print(\"the keywords used are :\\n\")\n",
        "print(ph4)\n",
        "print(\"-\" *100)\n",
        "print(\"the sentence generated :\\n\")\n",
        "print(s4)"
      ],
      "execution_count": 21,
      "outputs": [
        {
          "output_type": "stream",
          "name": "stdout",
          "text": [
            "the keywords used are :\n",
            "\n",
            "['Equipped kitchen', 'Dishwasher outlet', 'Double Kitchen', 'kitchen', 'Double glazing', 'Calmed down', 'Luminous', 'Air conditioner', 'Central heating', 'Apartment', 'Pool', 'Veranda', 'Terrace', 'Apartment', 'residence', 'Optical fiber', 'Camera', 'LiftService Room', 'the property', 'Garden', 'Alarm', 'Guardian']\n",
            "----------------------------------------------------------------------------------------------------\n",
            "the sentence generated :\n",
            "\n",
            "A kitchen with a double sink, a dishwasher, and an outlet. Luminous double glazing with a glass window down The apartment has a central heating and air conditioning. the apartment has a terrace and a pool. A residence with a lift and a camera on it. the garden of the property is monitored by a security guard.\n"
          ]
        }
      ]
    },
    {
      "cell_type": "code",
      "metadata": {
        "colab": {
          "base_uri": "https://localhost:8080/"
        },
        "id": "-YZnSgKr8Vpm",
        "outputId": "134fe8ac-3a37-4bce-f5dc-3345753d344c"
      },
      "source": [
        "#sentence 5 describing the view of the property \n",
        "\n",
        "ph5 =[type,random.choice(vocab)]+view_of_the_property\n",
        "s5=nlp_t5(ph5)\n",
        "\n",
        "print(\"the keywords used are :\\n\")\n",
        "print(ph5)\n",
        "print(\"-\" *100)\n",
        "print(\"the sentence generated :\\n\")\n",
        "print(s5)"
      ],
      "execution_count": 22,
      "outputs": [
        {
          "output_type": "stream",
          "name": "stdout",
          "text": [
            "the keywords used are :\n",
            "\n",
            "['Apartment', 'Astounding', 'open view', ' Garden view']\n",
            "----------------------------------------------------------------------------------------------------\n",
            "the sentence generated :\n",
            "\n",
            "a stunning view of the garden from the apartment.\n"
          ]
        }
      ]
    },
    {
      "cell_type": "code",
      "metadata": {
        "colab": {
          "base_uri": "https://localhost:8080/"
        },
        "id": "BTh81uWY8Yra",
        "outputId": "8c22ef20-fd08-48f0-db85-0393707fc33c"
      },
      "source": [
        "#sentence 6 describing the location of the property \n",
        "\n",
        "#location_static\n",
        "\n",
        "s6=\"It is located in \"+state.title()+\",\"+city.title()+\"\"+neighborhood.title()\n",
        "print(s6)"
      ],
      "execution_count": 23,
      "outputs": [
        {
          "output_type": "stream",
          "name": "stdout",
          "text": [
            "It is located in Ariana,Ennasr\n"
          ]
        }
      ]
    },
    {
      "cell_type": "code",
      "metadata": {
        "colab": {
          "base_uri": "https://localhost:8080/",
          "height": 35
        },
        "id": "SS4eiP7rDtEK",
        "outputId": "8a4da6ae-0f78-4393-e87b-def4649c0007"
      },
      "source": [
        "\"\"\"\n",
        "I used the same principal that i used to describe the amenties\n",
        "for generating the description of what's around the ppty\n",
        "\"\"\""
      ],
      "execution_count": 24,
      "outputs": [
        {
          "output_type": "execute_result",
          "data": {
            "application/vnd.google.colaboratory.intrinsic+json": {
              "type": "string"
            },
            "text/plain": [
              "\"\\nI used the same principal that i used to describe the amenties\\nfor generating the description of what's around the ppty\\n\""
            ]
          },
          "metadata": {},
          "execution_count": 24
        }
      ]
    },
    {
      "cell_type": "code",
      "metadata": {
        "id": "KpPf8QIkpSrj"
      },
      "source": [
        "around_the_property=[w.replace(\"Near Post\",'near Post office') for w in around_the_property]\n",
        "around_the_property=[w.replace('Close Bank','bank') for w in around_the_property]\n",
        "around_the_property=[w.replace('Resto' ,'Restorants') for w in around_the_property]"
      ],
      "execution_count": 25,
      "outputs": []
    },
    {
      "cell_type": "code",
      "metadata": {
        "id": "UnwvpNcAp96Y"
      },
      "source": [
        "\n",
        "tt=[ 'Near metro', 'Near train station', 'Close to Transport']\n",
        "ff=['Near Clinic', 'Near School','Near nursery']\n",
        "uu=['near Post office', 'bank']\n",
        "fo=['Near Café', 'Close to Restorants']\n",
        "fu=[\"Close to shops\",\"Close to the park\"]\n",
        "\n",
        "\n",
        "transport=[ ]\n",
        "family_friendly=[]\n",
        "uselful=[]\n",
        "food=[]\n",
        "fun=[]\n",
        "\n",
        "for x in around_the_property:\n",
        "  if x in tt:\n",
        "    transport.append(x)\n",
        "  elif x in ff:\n",
        "    family_friendly.append(x)\n",
        "  elif x in uu:\n",
        "    uselful.append(x)\n",
        "  elif x in fo:\n",
        "    food.append(x)\n",
        "  elif x in fu:\n",
        "    fun.append(x)  \n",
        "\n",
        "if len(transport)!=0 :\n",
        "  transport.append(random.choice(vocab))\n",
        "\n",
        "if len(family_friendly)!=0 :\n",
        "  family_friendly.append(\"Astonishing\")\n",
        "\n",
        "if len(uselful)!=0 :\n",
        "  uselful.append(type)\n",
        "  uselful.append(\"Exquisite\")\n",
        "\n",
        "if len(food)!=0 :\n",
        "  food.append(\"food\")\n",
        "\n",
        "if len(fun)!=0 :\n",
        "  fun.append(random.choice(vocab))\n",
        "  fun.append(type)\n",
        "\n",
        "sfun,sfood,suselful,sff,stransport=\"\",\"\",\"\",\"\",\"\""
      ],
      "execution_count": 26,
      "outputs": []
    },
    {
      "cell_type": "code",
      "metadata": {
        "colab": {
          "base_uri": "https://localhost:8080/"
        },
        "id": "pS7Dv6-Wcey3",
        "outputId": "a679c978-4702-42be-eae9-ab39314fa2d4"
      },
      "source": [
        "if len(fun)!=0 :\n",
        "  sfun=nlp_t5(fun)\n",
        "\n",
        "print(\"the keywords used are :\\n\")\n",
        "print(fun)\n",
        "print(\"-\" *100)\n",
        "print(\"the sentence generated :\\n\")\n",
        "print(sfun)"
      ],
      "execution_count": 27,
      "outputs": [
        {
          "output_type": "stream",
          "name": "stdout",
          "text": [
            "the keywords used are :\n",
            "\n",
            "['Close to shops', 'Close to the park', 'Fascinating', 'Apartment']\n",
            "----------------------------------------------------------------------------------------------------\n",
            "the sentence generated :\n",
            "\n",
            "the apartment is located in a beautiful park close to shops and restaurants.\n"
          ]
        }
      ]
    },
    {
      "cell_type": "code",
      "metadata": {
        "colab": {
          "base_uri": "https://localhost:8080/"
        },
        "id": "7t3CKi6wbnlP",
        "outputId": "49a8540d-24e4-4bff-94b7-4865ec5940a4"
      },
      "source": [
        "if len(food)!=0 :\n",
        "  sfood=nlp_t5(food)\n",
        "\n",
        "print(\"the keywords used are :\\n\")\n",
        "print(food)\n",
        "print(\"-\" *100)\n",
        "print(\"the sentence generated :\\n\")\n",
        "print(sfood)"
      ],
      "execution_count": 28,
      "outputs": [
        {
          "output_type": "stream",
          "name": "stdout",
          "text": [
            "the keywords used are :\n",
            "\n",
            "['Near Café', 'Close to Restorants', 'food']\n",
            "----------------------------------------------------------------------------------------------------\n",
            "the sentence generated :\n",
            "\n",
            "Close to a cafe and restorants serving food.\n"
          ]
        }
      ]
    },
    {
      "cell_type": "code",
      "metadata": {
        "colab": {
          "base_uri": "https://localhost:8080/"
        },
        "id": "iMgIfcqqa6FF",
        "outputId": "acf0cb2d-59e9-440b-a0b1-e7e715284158"
      },
      "source": [
        "if len(uselful)!=0 :\n",
        "  suselful=nlp_t5(uselful)\n",
        "\n",
        "print(\"the keywords used are :\\n\")\n",
        "print(uselful)\n",
        "print(\"-\" *100)\n",
        "print(\"the sentence generated :\\n\")\n",
        "print(suselful)"
      ],
      "execution_count": 29,
      "outputs": [
        {
          "output_type": "stream",
          "name": "stdout",
          "text": [
            "the keywords used are :\n",
            "\n",
            "['near Post office', 'bank', 'Apartment', 'Exquisite']\n",
            "----------------------------------------------------------------------------------------------------\n",
            "the sentence generated :\n",
            "\n",
            "the apartment is located in a quiet residential neighborhood near the post office and bank.\n"
          ]
        }
      ]
    },
    {
      "cell_type": "code",
      "metadata": {
        "colab": {
          "base_uri": "https://localhost:8080/"
        },
        "id": "0LKHRIbYZv69",
        "outputId": "4949523f-a03b-4910-eaab-cf5aa16665a8"
      },
      "source": [
        "if len(family_friendly)!=0 :\n",
        "  sff=nlp_t5(family_friendly)\n",
        "\n",
        "print(\"the keywords used are :\\n\")\n",
        "print(family_friendly)\n",
        "print(\"-\" *100)\n",
        "print(\"the sentence generated :\\n\")\n",
        "print(sff)\n",
        "\n"
      ],
      "execution_count": 30,
      "outputs": [
        {
          "output_type": "stream",
          "name": "stdout",
          "text": [
            "the keywords used are :\n",
            "\n",
            "['Near Clinic', 'Near School', 'Near nursery', 'Astonishing']\n",
            "----------------------------------------------------------------------------------------------------\n",
            "the sentence generated :\n",
            "\n",
            "Astonishingly close to the nearest school and nursery\n"
          ]
        }
      ]
    },
    {
      "cell_type": "code",
      "metadata": {
        "colab": {
          "base_uri": "https://localhost:8080/"
        },
        "id": "NgnWqqNBZepq",
        "outputId": "31cb33c9-4c2d-42f1-8863-3a45f997cbc7"
      },
      "source": [
        "if len(transport)!=0 :\n",
        "  stransport=nlp_t5(transport)\n",
        "  \n",
        "print(\"the keywords used are :\\n\")\n",
        "print(transport)\n",
        "print(\"-\" *100)\n",
        "print(\"the sentence generated :\\n\")\n",
        "print(stransport)\n"
      ],
      "execution_count": 31,
      "outputs": [
        {
          "output_type": "stream",
          "name": "stdout",
          "text": [
            "the keywords used are :\n",
            "\n",
            "['Close to Transport', 'Near metro', 'Near train station', 'Astounding']\n",
            "----------------------------------------------------------------------------------------------------\n",
            "the sentence generated :\n",
            "\n",
            "a train near a metro station is astoundingly quiet.\n"
          ]
        }
      ]
    },
    {
      "cell_type": "code",
      "metadata": {
        "colab": {
          "base_uri": "https://localhost:8080/"
        },
        "id": "DeJ1g9fBuviK",
        "outputId": "17a01a2c-6ae4-4f39-e0de-ad627af38eed"
      },
      "source": [
        "#sentence 7 describing what's around the property \n",
        "\n",
        "saround=\"you won't be dissapinted by what you find aroud the property, \"\n",
        "if around_the_property==[\"\"]:\n",
        "  s7=''\n",
        "else:\n",
        "  around=[saround,sfun,stransport,suselful,sfood,sff]\n",
        "  s7=' '.join(around)\n",
        "\n",
        "ph7=fun+transport+uselful+food+family_friendly\n",
        "\n",
        "print(\"the keywords used are :\\n\")\n",
        "print(ph7)\n",
        "print(\"-\" *100)\n",
        "print(\"the sentence generated :\\n\")\n",
        "print(s7)"
      ],
      "execution_count": 32,
      "outputs": [
        {
          "output_type": "stream",
          "name": "stdout",
          "text": [
            "the keywords used are :\n",
            "\n",
            "['Close to shops', 'Close to the park', 'Fascinating', 'Apartment', 'Close to Transport', 'Near metro', 'Near train station', 'Astounding', 'near Post office', 'bank', 'Apartment', 'Exquisite', 'Near Café', 'Close to Restorants', 'food', 'Near Clinic', 'Near School', 'Near nursery', 'Astonishing']\n",
            "----------------------------------------------------------------------------------------------------\n",
            "the sentence generated :\n",
            "\n",
            "you won't be dissapinted by what you find aroud the property,  the apartment is located in a beautiful park close to shops and restaurants. a train near a metro station is astoundingly quiet. the apartment is located in a quiet residential neighborhood near the post office and bank. Close to a cafe and restorants serving food. Astonishingly close to the nearest school and nursery\n"
          ]
        }
      ]
    },
    {
      "cell_type": "code",
      "metadata": {
        "id": "ohlbL56i9a2K",
        "colab": {
          "base_uri": "https://localhost:8080/"
        },
        "outputId": "c327db0f-c4e5-4142-dbb2-7e60f4886b62"
      },
      "source": [
        "#joining all the sentences to have a coherent paragraph\n",
        "final_text=[final_start,s1,s2,s3,s4,s5,s6,s7,\"\\n\"+s_closing_phrase]\n",
        "final='\\n'.join(final_text)\n",
        "print(final)"
      ],
      "execution_count": 33,
      "outputs": [
        {
          "output_type": "stream",
          "name": "stdout",
          "text": [
            "Property Price: 2500\n",
            "Parking price: 250\n",
            "Exclusive \n",
            "Property ID: 1\n",
            "\n",
            "Come and discover our amazing offer on this Exquisite furnished 3-room apartment for rent: \n",
            "\n",
            "the apartment is in good condition and has been finished in high standing.\n",
            "this property has a total of 170 m2 of living space.\n",
            "the property is composed of 3 bedrooms and 2 bathrooms.\n",
            "A kitchen with a double sink, a dishwasher, and an outlet. Luminous double glazing with a glass window down The apartment has a central heating and air conditioning. the apartment has a terrace and a pool. A residence with a lift and a camera on it. the garden of the property is monitored by a security guard.\n",
            "a stunning view of the garden from the apartment.\n",
            "It is located in Ariana,Ennasr\n",
            "you won't be dissapinted by what you find aroud the property,  the apartment is located in a beautiful park close to shops and restaurants. a train near a metro station is astoundingly quiet. the apartment is located in a quiet residential neighborhood near the post office and bank. Close to a cafe and restorants serving food. Astonishingly close to the nearest school and nursery\n",
            "\n",
            "For any further information, do not hesitate to contact the agency to schedule a free visit.\n"
          ]
        }
      ]
    },
    {
      "cell_type": "code",
      "metadata": {
        "id": "m54OrRBQKzK3"
      },
      "source": [
        ""
      ],
      "execution_count": null,
      "outputs": []
    }
  ]
}